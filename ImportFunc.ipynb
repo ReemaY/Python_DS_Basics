{
 "cells": [
  {
   "cell_type": "code",
   "execution_count": 2,
   "metadata": {},
   "outputs": [],
   "source": [
    "def CheckIfNotNumeric(**args):\n",
    "    for x in args:\n",
    "        if not(isinstancetance(x,(float,int))):\n",
    "            return False\n",
    "        return True\n",
    "    \n",
    "def addAllNumerices(*args):\n",
    "    s = 0\n",
    "    for x in args:\n",
    "         s+=x\n",
    "    return s\n",
    "\n",
    "myName = \"Python\""
   ]
  },
  {
   "cell_type": "code",
   "execution_count": null,
   "metadata": {},
   "outputs": [],
   "source": []
  }
 ],
 "metadata": {
  "kernelspec": {
   "display_name": "Python 3",
   "language": "python",
   "name": "python3"
  },
  "language_info": {
   "codemirror_mode": {
    "name": "ipython",
    "version": 3
   },
   "file_extension": ".py",
   "mimetype": "text/x-python",
   "name": "python",
   "nbconvert_exporter": "python",
   "pygments_lexer": "ipython3",
   "version": "3.7.9"
  }
 },
 "nbformat": 4,
 "nbformat_minor": 4
}
