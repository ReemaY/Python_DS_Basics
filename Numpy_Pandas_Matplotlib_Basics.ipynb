{
 "cells": [
  {
   "cell_type": "markdown",
   "metadata": {},
   "source": [
    "# NUMPY"
   ]
  },
  {
   "cell_type": "code",
   "execution_count": 1,
   "metadata": {},
   "outputs": [],
   "source": [
    "# Why Numpy --> Faster"
   ]
  },
  {
   "cell_type": "code",
   "execution_count": 60,
   "metadata": {},
   "outputs": [],
   "source": [
    "import numpy as np"
   ]
  },
  {
   "cell_type": "code",
   "execution_count": 61,
   "metadata": {},
   "outputs": [
    {
     "name": "stdout",
     "output_type": "stream",
     "text": [
      "[1 2 3 4 5]\n",
      "[1. 7. 3. 2. 9.]\n"
     ]
    }
   ],
   "source": [
    "a = np.array([1,2,3,4,5], dtype='i')\n",
    "b = np.array((1,7,3,2,9), dtype='f')\n",
    "print(a)\n",
    "print(b)"
   ]
  },
  {
   "cell_type": "code",
   "execution_count": 7,
   "metadata": {},
   "outputs": [
    {
     "data": {
      "text/plain": [
       "numpy.ndarray"
      ]
     },
     "execution_count": 7,
     "metadata": {},
     "output_type": "execute_result"
    }
   ],
   "source": [
    "type(a)"
   ]
  },
  {
   "cell_type": "code",
   "execution_count": 10,
   "metadata": {},
   "outputs": [
    {
     "data": {
      "text/plain": [
       "dtype('float32')"
      ]
     },
     "execution_count": 10,
     "metadata": {},
     "output_type": "execute_result"
    }
   ],
   "source": [
    "b.dtype"
   ]
  },
  {
   "cell_type": "code",
   "execution_count": 11,
   "metadata": {},
   "outputs": [],
   "source": [
    "# Numpy Dimensions\n",
    "a = np.array([[1,23,4],[12,23,4]])"
   ]
  },
  {
   "cell_type": "code",
   "execution_count": 12,
   "metadata": {},
   "outputs": [
    {
     "name": "stdout",
     "output_type": "stream",
     "text": [
      "[[ 1 23  4]\n",
      " [12 23  4]]\n"
     ]
    }
   ],
   "source": [
    "print(a)"
   ]
  },
  {
   "cell_type": "code",
   "execution_count": 13,
   "metadata": {},
   "outputs": [
    {
     "data": {
      "text/plain": [
       "2"
      ]
     },
     "execution_count": 13,
     "metadata": {},
     "output_type": "execute_result"
    }
   ],
   "source": [
    "# To see dimension of array\n",
    "a.ndim"
   ]
  },
  {
   "cell_type": "code",
   "execution_count": 14,
   "metadata": {},
   "outputs": [
    {
     "data": {
      "text/plain": [
       "4"
      ]
     },
     "execution_count": 14,
     "metadata": {},
     "output_type": "execute_result"
    }
   ],
   "source": [
    "# to access the third element of first array in a\n",
    "a[0,2]"
   ]
  },
  {
   "cell_type": "code",
   "execution_count": 19,
   "metadata": {},
   "outputs": [],
   "source": [
    "b = np.array([[[1,2,3],[2,3,4,5]],[[2,3,5,5,6],[2,5,6]]])"
   ]
  },
  {
   "cell_type": "code",
   "execution_count": 20,
   "metadata": {},
   "outputs": [
    {
     "name": "stdout",
     "output_type": "stream",
     "text": [
      "[[list([1, 2, 3]) list([2, 3, 4, 5])]\n",
      " [list([2, 3, 5, 5, 6]) list([2, 5, 6])]]\n"
     ]
    }
   ],
   "source": [
    "print(b)"
   ]
  },
  {
   "cell_type": "code",
   "execution_count": 21,
   "metadata": {},
   "outputs": [
    {
     "data": {
      "text/plain": [
       "2"
      ]
     },
     "execution_count": 21,
     "metadata": {},
     "output_type": "execute_result"
    }
   ],
   "source": [
    "b.ndim"
   ]
  },
  {
   "cell_type": "code",
   "execution_count": 22,
   "metadata": {},
   "outputs": [
    {
     "data": {
      "text/plain": [
       "(2, 2)"
      ]
     },
     "execution_count": 22,
     "metadata": {},
     "output_type": "execute_result"
    }
   ],
   "source": [
    "b.shape"
   ]
  },
  {
   "cell_type": "code",
   "execution_count": 24,
   "metadata": {},
   "outputs": [
    {
     "data": {
      "text/plain": [
       "2"
      ]
     },
     "execution_count": 24,
     "metadata": {},
     "output_type": "execute_result"
    }
   ],
   "source": [
    "b.shape[1]"
   ]
  },
  {
   "cell_type": "code",
   "execution_count": 25,
   "metadata": {},
   "outputs": [
    {
     "data": {
      "text/plain": [
       "4"
      ]
     },
     "execution_count": 25,
     "metadata": {},
     "output_type": "execute_result"
    }
   ],
   "source": [
    "b.size"
   ]
  },
  {
   "cell_type": "code",
   "execution_count": 82,
   "metadata": {},
   "outputs": [
    {
     "name": "stdout",
     "output_type": "stream",
     "text": [
      "[ 0  1  2  3  4  5  6  7  8  9 10 11 12 13 14 15 16 17 18 19 20 21 22 23\n",
      " 24 25 26 27 28 29 30 31 32 33 34 35 36 37 38 39 40 41 42 43 44 45 46 47\n",
      " 48 49 50 51 52 53 54 55 56 57 58 59 60 61 62 63 64 65 66 67 68 69 70 71\n",
      " 72 73 74 75 76 77 78 79 80 81 82 83 84 85 86 87 88 89 90 91 92 93 94 95\n",
      " 96 97 98 99]\n"
     ]
    }
   ],
   "source": [
    "# arange - to create an array of specified range\n",
    "a = np.arange(100)\n",
    "print(a)"
   ]
  },
  {
   "cell_type": "code",
   "execution_count": 28,
   "metadata": {},
   "outputs": [
    {
     "name": "stdout",
     "output_type": "stream",
     "text": [
      "[20 23 26 29 32 35 38 41 44 47 50 53 56 59 62 65 68 71 74 77 80 83 86 89\n",
      " 92 95 98]\n"
     ]
    }
   ],
   "source": [
    "# to start from a number and end at another number with step\n",
    "b = np.arange(20,100,3)\n",
    "print(b)"
   ]
  },
  {
   "cell_type": "code",
   "execution_count": 30,
   "metadata": {},
   "outputs": [
    {
     "name": "stdout",
     "output_type": "stream",
     "text": [
      "[4 8 1 0 7 2 3 9 6 5]\n"
     ]
    }
   ],
   "source": [
    "# np.random.permutation --> random package with permuatation module in numpy library\n",
    "a = np.random.permutation(np.arange(10))\n",
    "# this will print 0 to 10 number in an random order\n",
    "print(a)"
   ]
  },
  {
   "cell_type": "code",
   "execution_count": 31,
   "metadata": {},
   "outputs": [],
   "source": [
    "np.random.randint?"
   ]
  },
  {
   "cell_type": "code",
   "execution_count": 32,
   "metadata": {},
   "outputs": [
    {
     "data": {
      "text/plain": [
       "25"
      ]
     },
     "execution_count": 32,
     "metadata": {},
     "output_type": "execute_result"
    }
   ],
   "source": [
    "# it will return some random integer between two numbers\n",
    "np.random.randint(20,30)"
   ]
  },
  {
   "cell_type": "code",
   "execution_count": 81,
   "metadata": {},
   "outputs": [
    {
     "data": {
      "text/plain": [
       "array([4.75784971e-01, 8.46532440e-01, 1.23206874e-01, 9.87164263e-01,\n",
       "       2.28536292e-02, 5.83710653e-01, 6.82784885e-01, 3.12606594e-01,\n",
       "       8.07729631e-01, 5.36741239e-01, 3.77579690e-01, 1.75847919e-01,\n",
       "       5.41051452e-01, 4.44838105e-01, 9.57416590e-01, 6.02605582e-01,\n",
       "       9.21382894e-01, 1.26931664e-01, 4.54843311e-01, 8.21146926e-01,\n",
       "       5.60124595e-01, 6.76062030e-01, 1.29025286e-01, 8.61990916e-01,\n",
       "       5.90455943e-01, 4.25156733e-02, 7.33787004e-01, 3.71222744e-01,\n",
       "       7.15326844e-01, 7.27080612e-01, 2.14352012e-01, 7.75083229e-02,\n",
       "       1.88849860e-01, 3.67481245e-02, 4.90195199e-01, 4.60396710e-02,\n",
       "       7.06370105e-01, 9.54129401e-01, 5.04164032e-01, 5.07996069e-01,\n",
       "       9.58413905e-01, 4.76778701e-01, 6.99975657e-01, 6.43375083e-01,\n",
       "       9.74066923e-01, 1.29706974e-01, 4.58351277e-01, 2.31565376e-02,\n",
       "       3.43525708e-01, 4.71086788e-03, 3.13709428e-01, 3.04897083e-01,\n",
       "       1.78159268e-01, 8.04479866e-01, 3.44212245e-02, 5.69954262e-02,\n",
       "       1.24597804e-01, 5.02124153e-01, 3.23024403e-01, 5.67850287e-01,\n",
       "       6.92110713e-01, 6.64670075e-01, 4.58244449e-01, 7.30389759e-01,\n",
       "       4.58002073e-01, 7.79253100e-01, 6.01458061e-01, 4.13924699e-01,\n",
       "       2.72827131e-01, 1.21427902e-01, 6.49471938e-01, 2.44836135e-01,\n",
       "       7.48454773e-01, 3.99042770e-01, 3.72083046e-01, 8.77360878e-01,\n",
       "       6.49889506e-01, 6.21760899e-01, 2.99161647e-01, 1.71497706e-01,\n",
       "       6.51156590e-01, 4.29520729e-02, 8.03986009e-01, 9.35611158e-01,\n",
       "       5.48706766e-01, 4.25298912e-01, 8.91700530e-01, 2.24477535e-01,\n",
       "       8.09228707e-01, 4.90157733e-01, 4.39480470e-02, 7.46364779e-01,\n",
       "       7.27768310e-01, 2.80582450e-01, 2.81084459e-01, 9.80921595e-01,\n",
       "       3.72155339e-01, 7.66843847e-01, 3.55881966e-01, 1.68725238e-01,\n",
       "       2.13048849e-02, 4.33291698e-01, 7.04375510e-01, 5.45886865e-04,\n",
       "       8.98704359e-01, 4.64332033e-01, 2.78754428e-01, 6.44538848e-01,\n",
       "       3.78992592e-01, 7.47311083e-02, 5.76387699e-01, 4.28414912e-01,\n",
       "       7.98586910e-01, 6.24661166e-01, 7.41504299e-01, 8.01046393e-01,\n",
       "       8.25400491e-01, 2.09108418e-01, 5.67326577e-01, 3.33372270e-01,\n",
       "       9.49504755e-01, 3.95138210e-04, 9.83135280e-01, 3.82386269e-01,\n",
       "       3.12037833e-01, 8.11538273e-01, 3.11922838e-01, 7.08691209e-01,\n",
       "       1.70348289e-01, 2.17626637e-01, 1.52341467e-01, 7.14746263e-01,\n",
       "       7.70719214e-01, 2.81892527e-01, 4.61385275e-01, 7.19492124e-01,\n",
       "       8.24186465e-01, 2.49019019e-01, 5.62941459e-01, 4.34718583e-01,\n",
       "       3.92876664e-01, 4.81815942e-01, 2.59147782e-01, 8.67871557e-01,\n",
       "       9.64135013e-02, 6.71120663e-01, 1.15425320e-01, 7.67182963e-01,\n",
       "       6.24485935e-01, 7.68221746e-01, 8.45426516e-01, 9.13422005e-01,\n",
       "       2.69227925e-01, 6.14612892e-02, 8.18470585e-01, 4.38230517e-01,\n",
       "       3.26603472e-01, 5.33338065e-01, 7.60453107e-01, 1.73454885e-01,\n",
       "       2.76242776e-01, 2.99898285e-01, 5.87573726e-01, 5.94816628e-02,\n",
       "       6.73696760e-01, 1.39466134e-01, 6.53749571e-03, 3.59530394e-01,\n",
       "       9.42810975e-01, 5.25084123e-01, 6.93809603e-01, 1.49349923e-02,\n",
       "       7.08625790e-01, 5.29711460e-01, 1.75300489e-01, 7.38811867e-01,\n",
       "       5.82220489e-01, 6.13978916e-01, 6.56598078e-01, 8.58469389e-01,\n",
       "       3.02050131e-01, 4.40264914e-01, 6.39960721e-01, 8.98094517e-01,\n",
       "       2.61746467e-01, 2.23042814e-01, 9.13935439e-01, 4.72510742e-01,\n",
       "       1.38321452e-01, 3.16356785e-01, 7.75838890e-01, 8.39380462e-01,\n",
       "       8.18023557e-01, 5.78807402e-01, 8.05507020e-01, 6.26148588e-01,\n",
       "       4.59914334e-01, 5.89863523e-01, 2.64747338e-01, 7.34228836e-01,\n",
       "       9.24664251e-01, 7.74743208e-01, 2.49672662e-01, 7.43939388e-01,\n",
       "       7.75678559e-03, 1.60799165e-01, 6.44100882e-01, 2.56661838e-01,\n",
       "       5.62097332e-01, 8.98237761e-01, 3.26376910e-01, 5.73208860e-01,\n",
       "       3.66577657e-01, 6.39502655e-01, 7.72046809e-01, 3.04794851e-02,\n",
       "       7.12176850e-01, 6.10621688e-01, 7.28371437e-01, 8.60797081e-01,\n",
       "       3.54387302e-01, 2.58533394e-01, 4.23507824e-01, 2.48938522e-01,\n",
       "       3.63706169e-01, 8.21883777e-01, 1.72944777e-01, 3.67467929e-01,\n",
       "       1.79498100e-01, 6.73918985e-01, 2.27169065e-01, 4.55423545e-01,\n",
       "       5.78399266e-01, 2.02845941e-01, 9.26443008e-01, 5.81834406e-01,\n",
       "       1.26857577e-01, 8.47700884e-01, 4.92382029e-01, 9.37155781e-01,\n",
       "       7.03354694e-01, 1.39967488e-01, 7.27294316e-02, 2.46596188e-03,\n",
       "       8.77593155e-01, 2.03397565e-01, 9.39653870e-01, 4.87465442e-01,\n",
       "       3.07799431e-01, 9.50888207e-02, 5.75978961e-01, 6.69528686e-01,\n",
       "       8.16466693e-01, 5.13346096e-01, 1.65535173e-01, 7.18523068e-01,\n",
       "       5.89766345e-01, 4.35135913e-01, 5.76649308e-01, 5.43671699e-01,\n",
       "       1.24079512e-01, 5.63720073e-01, 7.47310589e-01, 9.19451004e-01,\n",
       "       8.35211477e-01, 2.26432253e-01, 9.84582378e-01, 7.33010388e-01,\n",
       "       8.56925426e-01, 1.16226185e-01, 1.72889243e-01, 1.04220278e-02,\n",
       "       7.80234781e-01, 3.40688773e-01, 2.73566188e-01, 1.52817107e-01,\n",
       "       2.91579460e-01, 2.95733999e-01, 6.10700099e-01, 1.44300772e-01,\n",
       "       7.42553582e-01, 1.12491954e-01, 6.62558416e-01, 3.84812741e-01,\n",
       "       8.82362211e-01, 9.87206772e-01, 3.81034476e-01, 3.05546120e-02,\n",
       "       2.50613546e-01, 2.37074242e-01, 9.80430140e-01, 7.19744651e-02,\n",
       "       2.79818018e-01, 2.31896638e-01, 9.53700950e-01, 1.52881696e-01,\n",
       "       6.64017524e-01, 4.85201121e-01, 3.63436929e-01, 8.52462805e-02,\n",
       "       1.21908394e-01, 3.70964362e-01, 3.45883489e-01, 7.89533896e-01,\n",
       "       3.67140914e-01, 9.20451980e-01, 4.20657164e-01, 2.61063833e-01,\n",
       "       4.20651662e-01, 3.87731349e-01, 8.40479793e-01, 7.86270360e-01,\n",
       "       3.20167899e-01, 7.69965779e-01, 1.53602785e-01, 8.93443743e-01,\n",
       "       5.30026464e-01, 3.41330054e-01, 9.63723823e-01, 6.55694731e-02,\n",
       "       8.21102362e-01, 6.85937211e-01, 4.05784040e-01, 7.98937946e-01,\n",
       "       2.24713550e-02, 8.15828710e-01, 2.37668131e-01, 6.57517509e-01,\n",
       "       2.09025607e-01, 2.01135206e-01, 8.59280730e-01, 4.89967021e-01,\n",
       "       1.40564891e-01, 2.42416260e-02, 1.19895621e-01, 2.31976876e-01,\n",
       "       6.03447549e-01, 8.76328608e-01, 1.01034419e-01, 8.51727535e-01,\n",
       "       7.10154757e-01, 3.29059848e-02, 3.66187420e-01, 2.58232928e-01,\n",
       "       3.48527268e-01, 4.69461440e-01, 5.36837281e-01, 5.31713423e-01,\n",
       "       8.88802758e-01, 3.49952732e-01, 8.27014752e-01, 2.33132482e-01,\n",
       "       6.98090460e-01, 2.22332111e-03, 2.52707690e-01, 9.34528841e-01,\n",
       "       9.76377085e-01, 6.11922647e-01, 6.07660123e-01, 3.65267433e-02,\n",
       "       8.62553894e-01, 7.48197807e-02, 5.21936850e-01, 9.67818761e-01,\n",
       "       3.74650485e-01, 4.66044747e-01, 5.60735690e-01, 7.19860812e-01,\n",
       "       1.93474475e-01, 7.95531619e-02, 3.92232026e-01, 2.12730133e-01,\n",
       "       6.25234794e-01, 7.64151475e-01, 1.96777750e-01, 6.18235000e-01,\n",
       "       4.38905352e-01, 3.10309790e-01, 8.14589316e-01, 1.88953686e-01,\n",
       "       7.42591533e-01, 1.56215115e-01, 4.77863987e-01, 8.91674601e-01,\n",
       "       6.14463664e-01, 8.39689976e-01, 7.02743938e-01, 7.82246986e-01,\n",
       "       3.14988427e-01, 8.99798199e-01, 9.02496867e-01, 3.70482999e-01,\n",
       "       7.82375848e-01, 8.86809787e-01, 8.61180908e-01, 7.67901315e-01,\n",
       "       2.44161887e-01, 9.02201751e-01, 4.89133590e-01, 3.11136048e-02,\n",
       "       3.51997669e-01, 6.91823745e-01, 6.78841877e-01, 2.69383975e-01,\n",
       "       7.18584560e-01, 3.61449537e-01, 3.57360569e-01, 9.81748867e-01,\n",
       "       4.41525843e-01, 7.97240164e-01, 2.87030361e-01, 3.74213688e-01,\n",
       "       8.92119134e-01, 3.23658063e-01, 5.01054606e-01, 7.67570664e-01,\n",
       "       1.41778988e-01, 5.71936678e-02, 6.72499153e-01, 8.54488067e-02,\n",
       "       4.45611837e-02, 6.70366774e-01, 9.82695399e-01, 1.27137889e-01,\n",
       "       5.04820048e-01, 9.88286097e-01, 1.70561607e-01, 7.41585004e-01,\n",
       "       2.37589743e-01, 6.84724614e-01, 2.95997324e-01, 4.86385665e-01,\n",
       "       6.42924334e-01, 9.50364169e-01, 2.06831397e-01, 2.40459529e-01,\n",
       "       4.01379079e-01, 3.42400513e-01, 6.64674578e-01, 8.64628747e-01,\n",
       "       2.94969991e-01, 9.95343049e-01, 8.68402347e-01, 9.82469805e-01,\n",
       "       5.29525316e-01, 8.79486407e-01, 5.28599948e-01, 7.57016777e-01,\n",
       "       1.21112006e-01, 4.07850337e-01, 1.45392066e-02, 2.82029579e-01,\n",
       "       5.21574615e-01, 8.34966271e-01, 3.15330206e-02, 4.85296086e-01,\n",
       "       3.65461671e-01, 9.26594641e-01, 5.53852548e-01, 5.04908162e-01,\n",
       "       6.91696352e-01, 9.89421480e-01, 7.48955488e-01, 9.63059231e-01,\n",
       "       9.34750332e-01, 8.47089567e-01, 4.16996489e-01, 7.20801054e-02,\n",
       "       1.34408931e-01, 3.20310194e-01, 2.06220195e-01, 8.96195961e-01,\n",
       "       8.85428229e-01, 7.59607953e-02, 1.82500381e-01, 8.77696944e-01,\n",
       "       6.34762211e-02, 7.77491439e-01, 7.77641543e-01, 5.13009077e-01,\n",
       "       5.20073623e-01, 5.80554665e-01, 7.04645125e-02, 8.58938111e-02,\n",
       "       5.55003036e-01, 4.47254109e-01, 6.48203729e-01, 1.10964163e-01,\n",
       "       4.48342669e-01, 3.02610470e-01, 5.63027862e-01, 8.10808623e-01,\n",
       "       8.99000373e-01, 8.38367094e-01, 6.01187342e-01, 7.04704060e-01,\n",
       "       7.76198633e-02, 9.61249841e-01, 4.31191436e-02, 9.55649795e-01,\n",
       "       1.16580219e-01, 6.86923081e-01, 1.26703993e-01, 3.14209973e-01,\n",
       "       7.16789157e-01, 7.62729344e-02, 6.15638360e-01, 2.24620552e-01,\n",
       "       4.36726482e-01, 7.48944071e-01, 3.39300641e-01, 4.47611836e-01,\n",
       "       4.83040085e-01, 4.31372919e-01, 3.84283877e-01, 2.12790776e-01,\n",
       "       2.05014055e-01, 2.21898558e-02, 9.31837673e-01, 1.87048454e-01,\n",
       "       9.44635542e-01, 3.27167456e-01, 7.76923937e-01, 1.70796406e-01,\n",
       "       8.42335574e-01, 4.89063373e-01, 6.28435113e-01, 6.28895971e-01,\n",
       "       6.43487822e-01, 2.44721120e-01, 6.67361062e-01, 5.17663399e-01,\n",
       "       7.57858243e-01, 4.14397402e-01, 1.29257200e-01, 4.52634270e-01,\n",
       "       4.69071845e-01, 6.23585046e-01, 7.81939621e-01, 7.29205593e-01,\n",
       "       2.65807011e-01, 3.81472676e-01, 9.75173111e-01, 9.31278993e-01,\n",
       "       6.07438833e-01, 8.63243199e-01, 6.21701360e-01, 1.75200033e-01,\n",
       "       1.12451357e-02, 9.63357939e-01, 1.65182207e-01, 6.95267591e-01,\n",
       "       3.57432516e-01, 1.83720500e-01, 3.75022696e-01, 4.54752231e-01,\n",
       "       5.47499476e-01, 9.44615010e-01, 6.42863190e-01, 4.36524517e-01,\n",
       "       8.00567188e-02, 8.84940204e-01, 9.12723622e-01, 7.02046490e-01,\n",
       "       5.36592759e-01, 4.82982565e-01, 9.16780611e-01, 1.63018555e-01,\n",
       "       7.14281516e-01, 3.94007131e-01, 6.78763635e-01, 5.48986544e-03,\n",
       "       3.09819021e-01, 1.99719586e-01, 7.48768836e-01, 7.33663750e-02,\n",
       "       5.46433565e-01, 9.44898135e-01, 7.28872958e-01, 1.97598081e-01,\n",
       "       6.06636871e-01, 5.49767379e-01, 8.18314929e-01, 5.37054774e-01,\n",
       "       2.54220363e-01, 5.04239459e-01, 8.82695543e-01, 9.91451615e-01,\n",
       "       9.10321492e-01, 3.35108044e-03, 9.79826967e-01, 7.59752855e-01,\n",
       "       3.60320467e-01, 5.33786856e-01, 1.80833329e-01, 4.52305667e-01,\n",
       "       1.23550530e-01, 5.82455154e-01, 3.57467170e-01, 8.77852439e-02,\n",
       "       8.40729531e-01, 8.90545613e-01, 5.90067152e-01, 4.45879945e-02,\n",
       "       7.11510257e-01, 1.59001405e-01, 6.17698706e-02, 1.48267355e-01,\n",
       "       6.93690292e-01, 2.84814215e-01, 6.03519802e-01, 2.57379605e-01,\n",
       "       5.32484719e-01, 9.70119276e-01, 1.34275014e-01, 5.40706562e-02,\n",
       "       4.38385580e-01, 6.94792825e-01, 6.78860238e-01, 3.14151083e-01,\n",
       "       1.58286791e-01, 3.03879443e-01, 6.35557355e-01, 5.49694858e-01,\n",
       "       7.48695255e-01, 5.36399280e-01, 2.92757046e-01, 8.53981321e-01,\n",
       "       5.44121634e-01, 9.38663219e-01, 1.44800289e-01, 4.99036219e-01,\n",
       "       1.46459299e-01, 3.53527256e-02, 6.99218198e-01, 4.98394677e-01,\n",
       "       5.66234912e-01, 9.39730636e-01, 3.87579675e-01, 9.78141847e-01,\n",
       "       9.88690839e-01, 8.40327337e-01, 4.81545028e-01, 4.89122769e-01,\n",
       "       5.17253985e-01, 2.51555313e-01, 3.57946842e-01, 1.47812816e-01,\n",
       "       8.32218007e-01, 9.25467024e-01, 8.29782990e-01, 8.07587641e-01,\n",
       "       7.09167019e-01, 4.51328665e-01, 8.88419154e-01, 8.38150645e-01,\n",
       "       1.80313039e-01, 8.46550831e-01, 9.47668963e-01, 2.06081050e-01,\n",
       "       5.72748885e-01, 4.20604934e-01, 2.16305231e-01, 1.31328491e-01,\n",
       "       5.81347573e-01, 2.91935253e-01, 7.33582573e-01, 5.46316016e-01,\n",
       "       4.08564406e-01, 7.13569129e-01, 9.01226432e-01, 1.52341836e-03,\n",
       "       3.82881716e-01, 5.74035688e-01, 7.28389093e-01, 9.36351397e-01,\n",
       "       1.88727919e-01, 9.25884350e-01, 1.76651384e-01, 5.54005477e-01,\n",
       "       5.67612996e-01, 3.34694091e-02, 3.10896567e-01, 6.51413704e-01,\n",
       "       1.90754437e-01, 2.73601992e-01, 8.96298309e-01, 9.22122558e-01,\n",
       "       5.14064416e-01, 9.79267181e-01, 8.89990485e-01, 7.38799629e-01,\n",
       "       2.03731778e-01, 7.91954164e-01, 1.79199127e-01, 2.62538561e-01,\n",
       "       4.23686682e-01, 9.84268394e-01, 9.12238080e-01, 8.31842558e-01,\n",
       "       9.30759341e-01, 6.63942332e-01, 7.69697834e-01, 2.70099446e-01,\n",
       "       6.54477517e-01, 8.01353709e-01, 7.97909745e-02, 1.05745887e-01,\n",
       "       6.24400976e-01, 5.71235967e-01, 1.83444439e-01, 2.20656479e-01,\n",
       "       2.22080370e-01, 1.06011406e-01, 1.76697377e-01, 9.69831746e-01,\n",
       "       7.57396713e-01, 5.62690896e-01, 2.49256056e-01, 6.39336061e-01,\n",
       "       2.77819209e-01, 9.24910974e-01, 7.58232788e-01, 9.77066354e-01,\n",
       "       4.47793798e-01, 4.61985020e-01, 6.01940658e-01, 8.10757450e-01,\n",
       "       2.21246195e-01, 8.39569763e-01, 9.72903641e-01, 4.52846256e-01,\n",
       "       5.72830210e-01, 7.85609560e-01, 8.13094392e-01, 5.38600453e-01,\n",
       "       2.63296009e-01, 7.82763023e-02, 2.99391071e-01, 5.66378006e-01,\n",
       "       6.95332199e-01, 1.59560858e-01, 2.69498259e-01, 8.89814429e-02,\n",
       "       7.41609981e-01, 6.71223253e-01, 1.32484302e-01, 2.82434942e-01,\n",
       "       3.49903841e-01, 6.07233293e-01, 1.79166392e-02, 8.78640192e-02,\n",
       "       8.19236653e-01, 7.74756068e-01, 8.53834301e-01, 3.17357572e-01,\n",
       "       6.91191864e-01, 7.12676366e-01, 1.92318092e-01, 4.38972388e-01,\n",
       "       9.05077379e-01, 1.74001304e-01, 4.19871182e-01, 5.19813956e-01,\n",
       "       7.24087956e-01, 9.56910603e-01, 5.24136585e-02, 7.64262044e-01,\n",
       "       3.17266365e-01, 5.88643246e-01, 4.04749241e-01, 6.90807392e-01,\n",
       "       5.35346349e-02, 5.01330634e-01, 4.65704344e-01, 2.09147222e-01,\n",
       "       7.32945446e-01, 3.38138166e-01, 8.83490311e-01, 2.60524073e-01,\n",
       "       6.89870309e-01, 3.27807429e-01, 4.49693443e-01, 1.93233328e-01,\n",
       "       9.60930404e-01, 5.23286837e-01, 9.99602905e-01, 6.27641988e-01,\n",
       "       3.95397875e-01, 4.60710735e-01, 6.29807956e-01, 4.56001308e-01,\n",
       "       2.40845904e-01, 5.93804631e-01, 7.14860565e-01, 4.92649244e-01,\n",
       "       7.86359500e-01, 1.92943621e-01, 9.30218743e-01, 2.00250189e-01,\n",
       "       2.41663704e-01, 6.05882762e-01, 1.30459385e-01, 7.21773053e-01,\n",
       "       7.37950280e-01, 5.70074849e-01, 9.55579320e-01, 7.21259770e-01,\n",
       "       9.34800060e-01, 1.07335396e-01, 9.76718632e-01, 7.47974339e-01,\n",
       "       1.47237752e-01, 2.02067365e-01, 7.01643262e-01, 1.36081915e-01,\n",
       "       6.95600068e-01, 3.27788978e-01, 8.88789724e-01, 4.26926399e-01,\n",
       "       4.12119132e-01, 7.30623922e-01, 8.77016896e-02, 5.79819888e-01,\n",
       "       8.63913746e-01, 9.79487644e-01, 3.60235811e-01, 1.36504206e-01,\n",
       "       9.46847263e-01, 7.49714630e-01, 2.86707828e-01, 4.77369016e-01,\n",
       "       1.54643929e-01, 3.54418684e-01, 2.87469070e-02, 1.18363779e-01,\n",
       "       6.28123073e-01, 6.71519179e-03, 6.38316537e-01, 3.95475005e-01,\n",
       "       4.23334558e-01, 3.00144179e-01, 2.00333271e-01, 8.66865957e-01,\n",
       "       2.71760893e-01, 6.93403232e-01, 8.70605511e-01, 2.90552045e-01,\n",
       "       8.34536402e-02, 3.25890424e-01, 9.27155071e-01, 8.19851714e-01,\n",
       "       4.62821882e-01, 3.44250614e-01, 3.81299837e-01, 5.31115383e-01,\n",
       "       8.60985208e-01, 7.07237880e-01, 8.92496546e-01, 2.15937550e-02,\n",
       "       9.58675033e-02, 4.88127598e-01, 5.92051355e-01, 5.69456028e-02,\n",
       "       5.33079004e-01, 3.03766360e-01, 3.59536780e-01, 8.47327223e-01,\n",
       "       3.12742515e-01, 6.89001710e-01, 6.94765539e-01, 6.40808099e-01,\n",
       "       5.21235485e-01, 4.22454316e-01, 3.53775913e-01, 6.85103077e-02,\n",
       "       6.00255476e-01, 2.46615060e-01, 9.09246062e-01, 4.81706699e-02,\n",
       "       3.38735159e-01, 8.74503140e-01, 8.96843955e-01, 6.85061983e-01,\n",
       "       4.15886143e-01, 1.96924965e-01, 6.93276105e-01, 9.73689938e-01,\n",
       "       7.88550900e-01, 2.36262288e-01, 6.45034624e-01, 9.48630625e-01,\n",
       "       6.58683798e-01, 1.97910052e-01, 2.52112945e-01, 5.98000818e-01,\n",
       "       1.78959710e-01, 2.50967432e-01, 9.59277907e-01, 4.79944435e-01,\n",
       "       7.84148981e-02, 8.64568549e-01, 6.76373051e-01, 2.87018944e-01,\n",
       "       6.06522994e-01, 7.98979570e-01, 9.47061438e-01, 9.77772249e-01,\n",
       "       6.48859272e-02, 5.06264484e-01, 3.30248901e-01, 7.25122540e-01,\n",
       "       4.74176795e-01, 5.76272003e-01, 5.02454890e-02, 9.59425400e-01,\n",
       "       5.16497477e-01, 5.53089593e-01, 8.66095137e-01, 9.40389876e-01,\n",
       "       3.85095893e-01, 4.47290462e-01, 6.95796938e-01, 8.78036666e-01,\n",
       "       8.11846737e-01, 4.81962338e-01, 6.84274639e-01, 3.59949406e-01,\n",
       "       1.12808476e-01, 7.47164875e-01, 6.53862238e-01, 1.60873854e-01,\n",
       "       8.46665503e-01, 3.88356776e-01, 1.35332412e-01, 8.47000698e-01,\n",
       "       8.33810794e-01, 9.14118460e-01, 1.21246442e-01, 3.51927352e-01,\n",
       "       5.01758372e-01, 9.86053638e-01, 8.19686851e-01, 9.46516684e-01,\n",
       "       2.82723925e-01, 3.61598087e-01, 5.58544259e-01, 1.73073625e-01,\n",
       "       5.27327123e-01, 4.17237636e-01, 3.32744003e-01, 1.76764508e-01,\n",
       "       2.28130645e-01, 4.33575971e-01, 6.26218236e-01, 9.94001835e-01,\n",
       "       3.34638573e-01, 1.48572126e-01, 4.65244399e-01, 5.04405575e-01,\n",
       "       7.29047787e-01, 8.69951585e-02, 9.56822017e-01, 4.30227936e-01,\n",
       "       7.64307285e-01, 3.20784376e-01, 1.36629870e-01, 1.99736707e-01,\n",
       "       9.98587455e-01, 8.57058160e-01, 3.74930046e-01, 4.55329744e-01,\n",
       "       4.29661380e-01, 1.23888545e-01, 4.58048441e-02, 2.95581896e-01,\n",
       "       9.09650249e-01, 4.96207459e-01, 1.77586014e-01, 5.39459589e-01,\n",
       "       9.40827551e-01, 4.82306642e-01, 7.20852665e-01, 6.26326870e-01,\n",
       "       9.69473496e-01, 3.27793190e-02, 6.12838196e-01, 5.65423994e-01,\n",
       "       8.78423373e-01, 9.40503733e-02, 7.13011761e-01, 8.52271752e-01,\n",
       "       9.52578108e-01, 9.84669989e-01, 9.66303571e-01, 1.98745910e-01,\n",
       "       1.16279445e-01, 8.85370041e-01, 2.86336143e-01, 6.55664078e-01])"
      ]
     },
     "execution_count": 81,
     "metadata": {},
     "output_type": "execute_result"
    }
   ],
   "source": [
    "A = np.random.rand(1000)\n",
    "A"
   ]
  },
  {
   "cell_type": "code",
   "execution_count": 34,
   "metadata": {},
   "outputs": [],
   "source": [
    "import matplotlib.pyplot as plt"
   ]
  },
  {
   "cell_type": "code",
   "execution_count": 35,
   "metadata": {},
   "outputs": [
    {
     "data": {
      "text/plain": [
       "(array([ 99., 108.,  85.,  76., 106., 113., 108., 102., 106.,  97.]),\n",
       " array([7.09182455e-04, 1.00503318e-01, 2.00297454e-01, 3.00091589e-01,\n",
       "        3.99885725e-01, 4.99679860e-01, 5.99473996e-01, 6.99268131e-01,\n",
       "        7.99062267e-01, 8.98856403e-01, 9.98650538e-01]),\n",
       " <BarContainer object of 10 artists>)"
      ]
     },
     "execution_count": 35,
     "metadata": {},
     "output_type": "execute_result"
    },
    {
     "data": {
      "image/png": "[encoded data removed]",
      "text/plain": [
       "<Figure size 432x288 with 1 Axes>"
      ]
     },
     "metadata": {
      "needs_background": "light"
     },
     "output_type": "display_data"
    }
   ],
   "source": [
    "plt.hist(A)"
   ]
  },
  {
   "cell_type": "code",
   "execution_count": 42,
   "metadata": {},
   "outputs": [
    {
     "data": {
      "text/plain": [
       "(array([52., 47., 57., 51., 39., 46., 36., 40., 51., 55., 55., 58., 49.,\n",
       "        59., 46., 56., 59., 47., 48., 49.]),\n",
       " array([7.09182455e-04, 5.06062502e-02, 1.00503318e-01, 1.50400386e-01,\n",
       "        2.00297454e-01, 2.50194521e-01, 3.00091589e-01, 3.49988657e-01,\n",
       "        3.99885725e-01, 4.49782792e-01, 4.99679860e-01, 5.49576928e-01,\n",
       "        5.99473996e-01, 6.49371064e-01, 6.99268131e-01, 7.49165199e-01,\n",
       "        7.99062267e-01, 8.48959335e-01, 8.98856403e-01, 9.48753470e-01,\n",
       "        9.98650538e-01]),\n",
       " <BarContainer object of 20 artists>)"
      ]
     },
     "execution_count": 42,
     "metadata": {},
     "output_type": "execute_result"
    },
    {
     "data": {
      "image/png": "[encoded data removed]",
      "text/plain": [
       "<Figure size 432x288 with 1 Axes>"
      ]
     },
     "metadata": {
      "needs_background": "light"
     },
     "output_type": "display_data"
    }
   ],
   "source": [
    "plt.hist(A, bins=20)"
   ]
  },
  {
   "cell_type": "code",
   "execution_count": 43,
   "metadata": {},
   "outputs": [
    {
     "data": {
      "text/plain": [
       "(array([  1.,   0.,   1.,   4.,   2.,   2.,   1.,   2.,   3.,   8.,   5.,\n",
       "          4.,   4.,   8.,   9.,  13.,  20.,  17.,  19.,  27.,  38.,  49.,\n",
       "         45.,  74.,  75.,  94.,  92., 100., 114., 151., 147., 170., 199.,\n",
       "        222., 245., 270., 322., 339., 358., 392., 386., 432., 434., 475.,\n",
       "        508., 522., 528., 564., 571., 575., 561., 618., 565., 577., 638.,\n",
       "        566., 561., 548., 520., 525., 491., 453., 419., 412., 394., 403.,\n",
       "        345., 306., 276., 268., 258., 219., 186., 159., 168., 145., 112.,\n",
       "        109.,  92.,  82.,  62.,  66.,  43.,  44.,  38.,  29.,  19.,  16.,\n",
       "         11.,  13.,   9.,   9.,   5.,   2.,   4.,   3.,   1.,   3.,   3.,\n",
       "          3.]),\n",
       " array([-3.91009862, -3.83559308, -3.76108753, -3.68658198, -3.61207643,\n",
       "        -3.53757089, -3.46306534, -3.38855979, -3.31405424, -3.2395487 ,\n",
       "        -3.16504315, -3.0905376 , -3.01603205, -2.94152651, -2.86702096,\n",
       "        -2.79251541, -2.71800986, -2.64350432, -2.56899877, -2.49449322,\n",
       "        -2.41998767, -2.34548213, -2.27097658, -2.19647103, -2.12196548,\n",
       "        -2.04745994, -1.97295439, -1.89844884, -1.82394329, -1.74943775,\n",
       "        -1.6749322 , -1.60042665, -1.5259211 , -1.45141556, -1.37691001,\n",
       "        -1.30240446, -1.22789891, -1.15339337, -1.07888782, -1.00438227,\n",
       "        -0.92987672, -0.85537118, -0.78086563, -0.70636008, -0.63185453,\n",
       "        -0.55734899, -0.48284344, -0.40833789, -0.33383234, -0.2593268 ,\n",
       "        -0.18482125, -0.1103157 , -0.03581015,  0.03869539,  0.11320094,\n",
       "         0.18770649,  0.26221204,  0.33671758,  0.41122313,  0.48572868,\n",
       "         0.56023423,  0.63473977,  0.70924532,  0.78375087,  0.85825642,\n",
       "         0.93276196,  1.00726751,  1.08177306,  1.15627861,  1.23078415,\n",
       "         1.3052897 ,  1.37979525,  1.4543008 ,  1.52880634,  1.60331189,\n",
       "         1.67781744,  1.75232299,  1.82682853,  1.90133408,  1.97583963,\n",
       "         2.05034518,  2.12485072,  2.19935627,  2.27386182,  2.34836737,\n",
       "         2.42287291,  2.49737846,  2.57188401,  2.64638956,  2.7208951 ,\n",
       "         2.79540065,  2.8699062 ,  2.94441175,  3.01891729,  3.09342284,\n",
       "         3.16792839,  3.24243394,  3.31693948,  3.39144503,  3.46595058,\n",
       "         3.54045613]),\n",
       " <BarContainer object of 100 artists>)"
      ]
     },
     "execution_count": 43,
     "metadata": {},
     "output_type": "execute_result"
    },
    {
     "data": {
      "image/png": "[encoded data removed]",
      "text/plain": [
       "<Figure size 432x288 with 1 Axes>"
      ]
     },
     "metadata": {
      "needs_background": "light"
     },
     "output_type": "display_data"
    }
   ],
   "source": [
    "# Normal distribution -- bell shaped curve -- Gaussian distribution\n",
    "B = np.random.randn(20000)\n",
    "plt.hist(B,bins=100)"
   ]
  },
  {
   "cell_type": "code",
   "execution_count": 44,
   "metadata": {},
   "outputs": [
    {
     "data": {
      "text/plain": [
       "array([[0.25252174, 0.02350293, 0.57056169],\n",
       "       [0.18469958, 0.26741499, 0.75391814]])"
      ]
     },
     "execution_count": 44,
     "metadata": {},
     "output_type": "execute_result"
    }
   ],
   "source": [
    "# to create a 2 D array randomly\n",
    "C = np.random.rand(2,3)\n",
    "C"
   ]
  },
  {
   "cell_type": "code",
   "execution_count": 46,
   "metadata": {},
   "outputs": [
    {
     "data": {
      "text/plain": [
       "array([[[[0.07256114, 0.58128576],\n",
       "         [0.39702715, 0.6146169 ],\n",
       "         [0.27429677, 0.63929155],\n",
       "         [0.94121881, 0.34749278]],\n",
       "\n",
       "        [[0.89171069, 0.92340275],\n",
       "         [0.64310179, 0.9261025 ],\n",
       "         [0.7121148 , 0.00554169],\n",
       "         [0.94728042, 0.09694845]],\n",
       "\n",
       "        [[0.41824796, 0.79427666],\n",
       "         [0.19250864, 0.56431648],\n",
       "         [0.55203818, 0.05095558],\n",
       "         [0.98944835, 0.00365479]]],\n",
       "\n",
       "\n",
       "       [[[0.31784206, 0.78587243],\n",
       "         [0.03362798, 0.51838127],\n",
       "         [0.66691672, 0.69364593],\n",
       "         [0.92657549, 0.18790645]],\n",
       "\n",
       "        [[0.07153621, 0.58761806],\n",
       "         [0.72047758, 0.34544488],\n",
       "         [0.10231289, 0.47664502],\n",
       "         [0.91826173, 0.37735736]],\n",
       "\n",
       "        [[0.26759758, 0.15246037],\n",
       "         [0.72044368, 0.70550688],\n",
       "         [0.32784361, 0.84656455],\n",
       "         [0.16195969, 0.95319015]]]])"
      ]
     },
     "execution_count": 46,
     "metadata": {},
     "output_type": "execute_result"
    }
   ],
   "source": [
    "# to craete a 4 D array randomly\n",
    "C = np.random.rand(2,3,4,2)\n",
    "C"
   ]
  },
  {
   "cell_type": "code",
   "execution_count": 47,
   "metadata": {},
   "outputs": [
    {
     "data": {
      "text/plain": [
       "4"
      ]
     },
     "execution_count": 47,
     "metadata": {},
     "output_type": "execute_result"
    }
   ],
   "source": [
    "# to see dimension of the array\n",
    "C.ndim"
   ]
  },
  {
   "cell_type": "code",
   "execution_count": 48,
   "metadata": {},
   "outputs": [
    {
     "data": {
      "text/plain": [
       "array([[ 0,  1,  2,  3,  4,  5,  6,  7,  8,  9, 10, 11, 12, 13, 14, 15,\n",
       "        16, 17, 18, 19, 20, 21, 22, 23, 24],\n",
       "       [25, 26, 27, 28, 29, 30, 31, 32, 33, 34, 35, 36, 37, 38, 39, 40,\n",
       "        41, 42, 43, 44, 45, 46, 47, 48, 49],\n",
       "       [50, 51, 52, 53, 54, 55, 56, 57, 58, 59, 60, 61, 62, 63, 64, 65,\n",
       "        66, 67, 68, 69, 70, 71, 72, 73, 74],\n",
       "       [75, 76, 77, 78, 79, 80, 81, 82, 83, 84, 85, 86, 87, 88, 89, 90,\n",
       "        91, 92, 93, 94, 95, 96, 97, 98, 99]])"
      ]
     },
     "execution_count": 48,
     "metadata": {},
     "output_type": "execute_result"
    }
   ],
   "source": [
    "# This will take 100 integers and reshape them into 4 by 25 array\n",
    "D = np.arange(100).reshape(4,25)\n",
    "D"
   ]
  },
  {
   "cell_type": "code",
   "execution_count": 49,
   "metadata": {},
   "outputs": [
    {
     "name": "stdout",
     "output_type": "stream",
     "text": [
      "[3 4 5 6 7 8 9]\n"
     ]
    }
   ],
   "source": [
    "A = np.arange(100)\n",
    "b = A[3:10]\n",
    "print(b)"
   ]
  },
  {
   "cell_type": "code",
   "execution_count": 50,
   "metadata": {},
   "outputs": [],
   "source": [
    "b[0] = -220"
   ]
  },
  {
   "cell_type": "code",
   "execution_count": 51,
   "metadata": {},
   "outputs": [
    {
     "data": {
      "text/plain": [
       "array([-220,    4,    5,    6,    7,    8,    9])"
      ]
     },
     "execution_count": 51,
     "metadata": {},
     "output_type": "execute_result"
    }
   ],
   "source": [
    "b"
   ]
  },
  {
   "cell_type": "code",
   "execution_count": 52,
   "metadata": {},
   "outputs": [
    {
     "data": {
      "text/plain": [
       "array([   0,    1,    2, -220,    4,    5,    6,    7,    8,    9,   10,\n",
       "         11,   12,   13,   14,   15,   16,   17,   18,   19,   20,   21,\n",
       "         22,   23,   24,   25,   26,   27,   28,   29,   30,   31,   32,\n",
       "         33,   34,   35,   36,   37,   38,   39,   40,   41,   42,   43,\n",
       "         44,   45,   46,   47,   48,   49,   50,   51,   52,   53,   54,\n",
       "         55,   56,   57,   58,   59,   60,   61,   62,   63,   64,   65,\n",
       "         66,   67,   68,   69,   70,   71,   72,   73,   74,   75,   76,\n",
       "         77,   78,   79,   80,   81,   82,   83,   84,   85,   86,   87,\n",
       "         88,   89,   90,   91,   92,   93,   94,   95,   96,   97,   98,\n",
       "         99])"
      ]
     },
     "execution_count": 52,
     "metadata": {},
     "output_type": "execute_result"
    }
   ],
   "source": [
    "A"
   ]
  },
  {
   "cell_type": "code",
   "execution_count": 53,
   "metadata": {},
   "outputs": [],
   "source": [
    "b = A[3:10].copy()"
   ]
  },
  {
   "cell_type": "code",
   "execution_count": 54,
   "metadata": {},
   "outputs": [
    {
     "data": {
      "text/plain": [
       "array([ 0,  5, 10, 15, 20, 25, 30, 35, 40, 45, 50, 55, 60, 65, 70, 75, 80,\n",
       "       85, 90, 95])"
      ]
     },
     "execution_count": 54,
     "metadata": {},
     "output_type": "execute_result"
    }
   ],
   "source": [
    "A[::5]"
   ]
  },
  {
   "cell_type": "code",
   "execution_count": 55,
   "metadata": {},
   "outputs": [
    {
     "data": {
      "text/plain": [
       "array([99, 94, 89, 84, 79, 74, 69, 64, 59, 54, 49, 44, 39, 34, 29, 24, 19,\n",
       "       14,  9,  4])"
      ]
     },
     "execution_count": 55,
     "metadata": {},
     "output_type": "execute_result"
    }
   ],
   "source": [
    "A[::-5]"
   ]
  },
  {
   "cell_type": "code",
   "execution_count": 56,
   "metadata": {},
   "outputs": [
    {
     "data": {
      "text/plain": [
       "array([  99,   98,   97,   96,   95,   94,   93,   92,   91,   90,   89,\n",
       "         88,   87,   86,   85,   84,   83,   82,   81,   80,   79,   78,\n",
       "         77,   76,   75,   74,   73,   72,   71,   70,   69,   68,   67,\n",
       "         66,   65,   64,   63,   62,   61,   60,   59,   58,   57,   56,\n",
       "         55,   54,   53,   52,   51,   50,   49,   48,   47,   46,   45,\n",
       "         44,   43,   42,   41,   40,   39,   38,   37,   36,   35,   34,\n",
       "         33,   32,   31,   30,   29,   28,   27,   26,   25,   24,   23,\n",
       "         22,   21,   20,   19,   18,   17,   16,   15,   14,   13,   12,\n",
       "         11,   10,    9,    8,    7,    6,    5,    4, -220,    2,    1,\n",
       "          0])"
      ]
     },
     "execution_count": 56,
     "metadata": {},
     "output_type": "execute_result"
    }
   ],
   "source": [
    "A[::-1]"
   ]
  },
  {
   "cell_type": "code",
   "execution_count": 58,
   "metadata": {},
   "outputs": [
    {
     "data": {
      "text/plain": [
       "array([[3]], dtype=int64)"
      ]
     },
     "execution_count": 58,
     "metadata": {},
     "output_type": "execute_result"
    }
   ],
   "source": [
    "# to find the index of a particular element in a numpy array, for example index of -220 in the array\n",
    "\n",
    "idx"
   ]
  },
  {
   "cell_type": "code",
   "execution_count": 59,
   "metadata": {},
   "outputs": [
    {
     "data": {
      "text/plain": [
       "3"
      ]
     },
     "execution_count": 59,
     "metadata": {},
     "output_type": "execute_result"
    }
   ],
   "source": [
    "idx = np.argwhere(A==-220)[0][0]\n",
    "idx"
   ]
  },
  {
   "cell_type": "code",
   "execution_count": 60,
   "metadata": {},
   "outputs": [],
   "source": [
    "A[idx]=3"
   ]
  },
  {
   "cell_type": "code",
   "execution_count": 80,
   "metadata": {},
   "outputs": [
    {
     "data": {
      "text/plain": [
       "array([[ 1.,  2.,  2.,  4.],\n",
       "       [ 2.,  4.,  4.,  5.],\n",
       "       [ 3.,  5.,  6.,  6.],\n",
       "       [ 6.,  7.,  8.,  8.],\n",
       "       [ 8.,  9.,  9., 10.]])"
      ]
     },
     "execution_count": 80,
     "metadata": {},
     "output_type": "execute_result"
    }
   ],
   "source": [
    "A"
   ]
  },
  {
   "cell_type": "code",
   "execution_count": 63,
   "metadata": {},
   "outputs": [
    {
     "data": {
      "text/plain": [
       "array([[ 5.,  8.,  8.,  2.],\n",
       "       [ 6.,  6., 10.,  9.],\n",
       "       [ 7.,  9.,  5.,  6.],\n",
       "       [ 8.,  1.,  4.,  2.],\n",
       "       [ 4.,  4.,  2.,  3.]])"
      ]
     },
     "execution_count": 63,
     "metadata": {},
     "output_type": "execute_result"
    }
   ],
   "source": [
    "# 5 rows 4 cols\n",
    "A = np.round(10*np.random.rand(5,4))\n",
    "A"
   ]
  },
  {
   "cell_type": "code",
   "execution_count": 64,
   "metadata": {},
   "outputs": [
    {
     "data": {
      "text/plain": [
       "array([8., 6., 9., 1., 4.])"
      ]
     },
     "execution_count": 64,
     "metadata": {},
     "output_type": "execute_result"
    }
   ],
   "source": [
    "A[:,1]"
   ]
  },
  {
   "cell_type": "code",
   "execution_count": 65,
   "metadata": {},
   "outputs": [
    {
     "data": {
      "text/plain": [
       "array([ 6.,  6., 10.,  9.])"
      ]
     },
     "execution_count": 65,
     "metadata": {},
     "output_type": "execute_result"
    }
   ],
   "source": [
    "A[1,:]"
   ]
  },
  {
   "cell_type": "code",
   "execution_count": 66,
   "metadata": {},
   "outputs": [
    {
     "data": {
      "text/plain": [
       "array([[10.,  9.],\n",
       "       [ 5.,  6.]])"
      ]
     },
     "execution_count": 66,
     "metadata": {},
     "output_type": "execute_result"
    }
   ],
   "source": [
    "A[1:3,2:4]"
   ]
  },
  {
   "cell_type": "code",
   "execution_count": 67,
   "metadata": {},
   "outputs": [],
   "source": [
    "# linear algebra library\n",
    "import numpy.linalg as la"
   ]
  },
  {
   "cell_type": "code",
   "execution_count": 71,
   "metadata": {},
   "outputs": [
    {
     "data": {
      "text/plain": [
       "array([[ 1.,  2.,  2.,  4.],\n",
       "       [ 2.,  4.,  4.,  5.],\n",
       "       [ 3.,  5.,  6.,  6.],\n",
       "       [ 6.,  7.,  8.,  8.],\n",
       "       [ 8.,  9.,  9., 10.]])"
      ]
     },
     "execution_count": 71,
     "metadata": {},
     "output_type": "execute_result"
    }
   ],
   "source": [
    "A.sort(axis=0)\n",
    "A"
   ]
  },
  {
   "cell_type": "code",
   "execution_count": 70,
   "metadata": {},
   "outputs": [
    {
     "data": {
      "text/plain": [
       "array([[ 1.,  2.,  2.,  4.],\n",
       "       [ 2.,  4.,  4.,  5.],\n",
       "       [ 3.,  5.,  6.,  6.],\n",
       "       [ 6.,  7.,  8.,  8.],\n",
       "       [ 8.,  9.,  9., 10.]])"
      ]
     },
     "execution_count": 70,
     "metadata": {},
     "output_type": "execute_result"
    }
   ],
   "source": [
    "#Every row will be sorted individually\n",
    "A.sort(axis=1)\n",
    "A"
   ]
  },
  {
   "cell_type": "code",
   "execution_count": 74,
   "metadata": {},
   "outputs": [
    {
     "data": {
      "text/plain": [
       "array([4, 1, 7, 3, 6])"
      ]
     },
     "execution_count": 74,
     "metadata": {},
     "output_type": "execute_result"
    }
   ],
   "source": [
    "# Numpy(Slicing)\n",
    "# A[start:end:step]\n",
    "a[1:5]\n",
    "a[:5]\n",
    "a[2:]\n",
    "a[::-1]\n",
    "a[::2]"
   ]
  },
  {
   "cell_type": "code",
   "execution_count": 87,
   "metadata": {},
   "outputs": [
    {
     "data": {
      "text/plain": [
       "array([ 0,  1,  2,  3,  4,  5,  6,  7,  8,  9, 10, 11, 12, 13, 14, 15, 16,\n",
       "       17, 18, 19, 20, 21, 22, 23, 24, 25, 26, 27, 28, 29, 30, 31, 32, 33,\n",
       "       34, 35, 36, 37, 38, 39, 40, 41, 42, 43, 44, 45, 46, 47, 48, 49, 50,\n",
       "       51, 52, 53, 54, 55, 56, 57, 58, 59, 60, 61, 62, 63, 64, 65, 66, 67,\n",
       "       68, 69, 70, 71, 72, 73, 74, 75, 76, 77, 78, 79, 80, 81, 82, 83, 84,\n",
       "       85, 86, 87, 88, 89, 90, 91, 92, 93, 94, 95, 96, 97, 98, 99])"
      ]
     },
     "execution_count": 87,
     "metadata": {},
     "output_type": "execute_result"
    }
   ],
   "source": [
    "# More indexing using numpy\n",
    "a = np.arange(100)\n",
    "a"
   ]
  },
  {
   "cell_type": "code",
   "execution_count": 88,
   "metadata": {},
   "outputs": [
    {
     "data": {
      "text/plain": [
       "array([1, 4, 5])"
      ]
     },
     "execution_count": 88,
     "metadata": {},
     "output_type": "execute_result"
    }
   ],
   "source": [
    "a[[1,4,5]] # index 1,4,5 elements\n"
   ]
  },
  {
   "cell_type": "code",
   "execution_count": 89,
   "metadata": {},
   "outputs": [
    {
     "data": {
      "text/plain": [
       "array([0, 1, 2, 3, 4, 5, 6, 7])"
      ]
     },
     "execution_count": 89,
     "metadata": {},
     "output_type": "execute_result"
    }
   ],
   "source": [
    "a[a<8]\n"
   ]
  },
  {
   "cell_type": "code",
   "execution_count": 94,
   "metadata": {},
   "outputs": [
    {
     "data": {
      "text/plain": [
       "array([31, 32, 33, 34, 35, 36, 37, 38, 39])"
      ]
     },
     "execution_count": 94,
     "metadata": {},
     "output_type": "execute_result"
    }
   ],
   "source": [
    "a[(a<40) & (a>30)]"
   ]
  },
  {
   "cell_type": "code",
   "execution_count": 98,
   "metadata": {},
   "outputs": [],
   "source": [
    "# Numpy Broadcasting\n",
    "# A = A + 5 where A is an array"
   ]
  },
  {
   "cell_type": "code",
   "execution_count": 99,
   "metadata": {},
   "outputs": [],
   "source": [
    "A = np.round(10*np.random.rand(2,3))"
   ]
  },
  {
   "cell_type": "code",
   "execution_count": 100,
   "metadata": {},
   "outputs": [
    {
     "data": {
      "text/plain": [
       "array([[3., 7., 9.],\n",
       "       [3., 5., 9.]])"
      ]
     },
     "execution_count": 100,
     "metadata": {},
     "output_type": "execute_result"
    }
   ],
   "source": [
    "A\n"
   ]
  },
  {
   "cell_type": "code",
   "execution_count": 101,
   "metadata": {},
   "outputs": [
    {
     "data": {
      "text/plain": [
       "array([[ 6., 10., 12.],\n",
       "       [ 6.,  8., 12.]])"
      ]
     },
     "execution_count": 101,
     "metadata": {},
     "output_type": "execute_result"
    }
   ],
   "source": [
    "#Broadcasting\n",
    "A+3"
   ]
  },
  {
   "cell_type": "code",
   "execution_count": 102,
   "metadata": {},
   "outputs": [
    {
     "data": {
      "text/plain": [
       "array([[ 3.,  7.,  9.],\n",
       "       [ 4.,  6., 10.]])"
      ]
     },
     "execution_count": 102,
     "metadata": {},
     "output_type": "execute_result"
    }
   ],
   "source": [
    "#Broadcasting\n",
    "A + np.arange(2).reshape(2,1)"
   ]
  },
  {
   "cell_type": "code",
   "execution_count": 104,
   "metadata": {},
   "outputs": [
    {
     "data": {
      "text/plain": [
       "array([[ 6.,  6.],\n",
       "       [ 5., 10.]])"
      ]
     },
     "execution_count": 104,
     "metadata": {},
     "output_type": "execute_result"
    }
   ],
   "source": [
    "B = np.round(10*np.random.rand(2,2))\n",
    "B"
   ]
  },
  {
   "cell_type": "code",
   "execution_count": 105,
   "metadata": {},
   "outputs": [
    {
     "data": {
      "text/plain": [
       "array([[3., 7., 9.],\n",
       "       [3., 5., 9.]])"
      ]
     },
     "execution_count": 105,
     "metadata": {},
     "output_type": "execute_result"
    }
   ],
   "source": [
    "A"
   ]
  },
  {
   "cell_type": "code",
   "execution_count": 106,
   "metadata": {},
   "outputs": [
    {
     "data": {
      "text/plain": [
       "array([[ 3.,  7.,  9.,  6.,  6.],\n",
       "       [ 3.,  5.,  9.,  5., 10.]])"
      ]
     },
     "execution_count": 106,
     "metadata": {},
     "output_type": "execute_result"
    }
   ],
   "source": [
    "C = np.hstack((A,B))\n",
    "C"
   ]
  },
  {
   "cell_type": "code",
   "execution_count": 109,
   "metadata": {},
   "outputs": [
    {
     "data": {
      "text/plain": [
       "array([[3., 7., 9.],\n",
       "       [3., 5., 9.]])"
      ]
     },
     "execution_count": 109,
     "metadata": {},
     "output_type": "execute_result"
    }
   ],
   "source": [
    "C = np.sort(A)\n",
    "C"
   ]
  },
  {
   "cell_type": "code",
   "execution_count": 114,
   "metadata": {},
   "outputs": [
    {
     "name": "stdout",
     "output_type": "stream",
     "text": [
      "21.1 s ± 899 ms per loop (mean ± std. dev. of 7 runs, 1 loop each)\n",
      "137 ms ± 3.34 ms per loop (mean ± std. dev. of 7 runs, 10 loops each)\n"
     ]
    }
   ],
   "source": [
    "B = np.random.rand(100000000)\n",
    "%timeit sum(B)    # Normal python function\n",
    "%timeit np.sum(B) # Numpy function used"
   ]
  },
  {
   "cell_type": "code",
   "execution_count": 115,
   "metadata": {},
   "outputs": [],
   "source": [
    "def mySum(X):\n",
    "    s = 0\n",
    "    for i in X:\n",
    "        s+=i\n",
    "    return s"
   ]
  },
  {
   "cell_type": "code",
   "execution_count": 116,
   "metadata": {},
   "outputs": [
    {
     "name": "stdout",
     "output_type": "stream",
     "text": [
      "26.7 s ± 879 ms per loop (mean ± std. dev. of 7 runs, 1 loop each)\n"
     ]
    }
   ],
   "source": [
    "%timeit mySum(B)"
   ]
  },
  {
   "cell_type": "markdown",
   "metadata": {},
   "source": [
    "# Pandas"
   ]
  },
  {
   "cell_type": "code",
   "execution_count": 3,
   "metadata": {},
   "outputs": [
    {
     "name": "stdout",
     "output_type": "stream",
     "text": [
      "1.1.3\n"
     ]
    }
   ],
   "source": [
    "import pandas as pd\n",
    "print(pd.__version__)"
   ]
  },
  {
   "cell_type": "code",
   "execution_count": 119,
   "metadata": {},
   "outputs": [],
   "source": [
    "data = pd.Series([2,3,4,5], index=['a','b','c','d'])"
   ]
  },
  {
   "cell_type": "code",
   "execution_count": 120,
   "metadata": {},
   "outputs": [
    {
     "data": {
      "text/plain": [
       "array([2, 3, 4, 5], dtype=int64)"
      ]
     },
     "execution_count": 120,
     "metadata": {},
     "output_type": "execute_result"
    }
   ],
   "source": [
    "data.values"
   ]
  },
  {
   "cell_type": "code",
   "execution_count": 121,
   "metadata": {},
   "outputs": [],
   "source": [
    "marks_dict = {'A': 90,'A-':80,'B+':70,'B':60,'B-':50}\n",
    "marks = pd.Series(marks_dict)"
   ]
  },
  {
   "cell_type": "code",
   "execution_count": 122,
   "metadata": {},
   "outputs": [
    {
     "data": {
      "text/plain": [
       "A     90\n",
       "A-    80\n",
       "B+    70\n",
       "B     60\n",
       "B-    50\n",
       "dtype: int64"
      ]
     },
     "execution_count": 122,
     "metadata": {},
     "output_type": "execute_result"
    }
   ],
   "source": [
    "marks"
   ]
  },
  {
   "cell_type": "code",
   "execution_count": 124,
   "metadata": {},
   "outputs": [],
   "source": [
    "grades_dict = {'A':4,'A-':3.5,'B':3,'B-':2}\n",
    "grades = pd.Series(grades_dict)"
   ]
  },
  {
   "cell_type": "code",
   "execution_count": 126,
   "metadata": {},
   "outputs": [],
   "source": [
    "rs = pd.DataFrame({'gardes':grades,'marks':marks})"
   ]
  },
  {
   "cell_type": "code",
   "execution_count": 127,
   "metadata": {},
   "outputs": [
    {
     "ename": "NameError",
     "evalue": "name 'gardes' is not defined",
     "output_type": "error",
     "traceback": [
      "\u001b[1;31m---------------------------------------------------------------------------\u001b[0m",
      "\u001b[1;31mNameError\u001b[0m                                 Traceback (most recent call last)",
      "\u001b[1;32m<ipython-input-127-3d28744d8e13>\u001b[0m in \u001b[0;36m<module>\u001b[1;34m\u001b[0m\n\u001b[1;32m----> 1\u001b[1;33m \u001b[0mgardes\u001b[0m\u001b[1;33m\u001b[0m\u001b[1;33m\u001b[0m\u001b[0m\n\u001b[0m",
      "\u001b[1;31mNameError\u001b[0m: name 'gardes' is not defined"
     ]
    }
   ],
   "source": [
    "gardes"
   ]
  },
  {
   "cell_type": "code",
   "execution_count": 128,
   "metadata": {},
   "outputs": [
    {
     "data": {
      "text/plain": [
       "A     4.0\n",
       "A-    3.5\n",
       "B     3.0\n",
       "B-    2.0\n",
       "dtype: float64"
      ]
     },
     "execution_count": 128,
     "metadata": {},
     "output_type": "execute_result"
    }
   ],
   "source": [
    "grades"
   ]
  },
  {
   "cell_type": "code",
   "execution_count": 129,
   "metadata": {},
   "outputs": [
    {
     "data": {
      "text/html": [
       "<div>\n",
       "<style scoped>\n",
       "    .dataframe tbody tr th:only-of-type {\n",
       "        vertical-align: middle;\n",
       "    }\n",
       "\n",
       "    .dataframe tbody tr th {\n",
       "        vertical-align: top;\n",
       "    }\n",
       "\n",
       "    .dataframe thead th {\n",
       "        text-align: right;\n",
       "    }\n",
       "</style>\n",
       "<table border=\"1\" class=\"dataframe\">\n",
       "  <thead>\n",
       "    <tr style=\"text-align: right;\">\n",
       "      <th></th>\n",
       "      <th>gardes</th>\n",
       "      <th>marks</th>\n",
       "    </tr>\n",
       "  </thead>\n",
       "  <tbody>\n",
       "    <tr>\n",
       "      <th>A</th>\n",
       "      <td>4.0</td>\n",
       "      <td>90</td>\n",
       "    </tr>\n",
       "    <tr>\n",
       "      <th>A-</th>\n",
       "      <td>3.5</td>\n",
       "      <td>80</td>\n",
       "    </tr>\n",
       "    <tr>\n",
       "      <th>B</th>\n",
       "      <td>3.0</td>\n",
       "      <td>60</td>\n",
       "    </tr>\n",
       "    <tr>\n",
       "      <th>B+</th>\n",
       "      <td>NaN</td>\n",
       "      <td>70</td>\n",
       "    </tr>\n",
       "    <tr>\n",
       "      <th>B-</th>\n",
       "      <td>2.0</td>\n",
       "      <td>50</td>\n",
       "    </tr>\n",
       "  </tbody>\n",
       "</table>\n",
       "</div>"
      ],
      "text/plain": [
       "    gardes  marks\n",
       "A      4.0     90\n",
       "A-     3.5     80\n",
       "B      3.0     60\n",
       "B+     NaN     70\n",
       "B-     2.0     50"
      ]
     },
     "execution_count": 129,
     "metadata": {},
     "output_type": "execute_result"
    }
   ],
   "source": [
    "rs"
   ]
  },
  {
   "cell_type": "code",
   "execution_count": 130,
   "metadata": {},
   "outputs": [
    {
     "data": {
      "text/html": [
       "<div>\n",
       "<style scoped>\n",
       "    .dataframe tbody tr th:only-of-type {\n",
       "        vertical-align: middle;\n",
       "    }\n",
       "\n",
       "    .dataframe tbody tr th {\n",
       "        vertical-align: top;\n",
       "    }\n",
       "\n",
       "    .dataframe thead th {\n",
       "        text-align: right;\n",
       "    }\n",
       "</style>\n",
       "<table border=\"1\" class=\"dataframe\">\n",
       "  <thead>\n",
       "    <tr style=\"text-align: right;\">\n",
       "      <th></th>\n",
       "      <th>A</th>\n",
       "      <th>A-</th>\n",
       "      <th>B</th>\n",
       "      <th>B+</th>\n",
       "      <th>B-</th>\n",
       "    </tr>\n",
       "  </thead>\n",
       "  <tbody>\n",
       "    <tr>\n",
       "      <th>gardes</th>\n",
       "      <td>4.0</td>\n",
       "      <td>3.5</td>\n",
       "      <td>3.0</td>\n",
       "      <td>NaN</td>\n",
       "      <td>2.0</td>\n",
       "    </tr>\n",
       "    <tr>\n",
       "      <th>marks</th>\n",
       "      <td>90.0</td>\n",
       "      <td>80.0</td>\n",
       "      <td>60.0</td>\n",
       "      <td>70.0</td>\n",
       "      <td>50.0</td>\n",
       "    </tr>\n",
       "  </tbody>\n",
       "</table>\n",
       "</div>"
      ],
      "text/plain": [
       "           A    A-     B    B+    B-\n",
       "gardes   4.0   3.5   3.0   NaN   2.0\n",
       "marks   90.0  80.0  60.0  70.0  50.0"
      ]
     },
     "execution_count": 130,
     "metadata": {},
     "output_type": "execute_result"
    }
   ],
   "source": [
    "# To print the transposed version\n",
    "rs.T"
   ]
  },
  {
   "cell_type": "code",
   "execution_count": 131,
   "metadata": {},
   "outputs": [
    {
     "data": {
      "text/plain": [
       "array([[ 4. , 90. ],\n",
       "       [ 3.5, 80. ],\n",
       "       [ 3. , 60. ],\n",
       "       [ nan, 70. ],\n",
       "       [ 2. , 50. ]])"
      ]
     },
     "execution_count": 131,
     "metadata": {},
     "output_type": "execute_result"
    }
   ],
   "source": [
    "# To access the values inside the rs\n",
    "rs.values"
   ]
  },
  {
   "cell_type": "code",
   "execution_count": 132,
   "metadata": {},
   "outputs": [
    {
     "data": {
      "text/plain": [
       "3.0"
      ]
     },
     "execution_count": 132,
     "metadata": {},
     "output_type": "execute_result"
    }
   ],
   "source": [
    "rs.values[2,0]"
   ]
  },
  {
   "cell_type": "code",
   "execution_count": 133,
   "metadata": {},
   "outputs": [
    {
     "data": {
      "text/plain": [
       "Index(['gardes', 'marks'], dtype='object')"
      ]
     },
     "execution_count": 133,
     "metadata": {},
     "output_type": "execute_result"
    }
   ],
   "source": [
    "rs.columns"
   ]
  },
  {
   "cell_type": "code",
   "execution_count": 138,
   "metadata": {},
   "outputs": [],
   "source": [
    "# To add new columns\n",
    "rs['ScaledMArks'] = 100*(rs['marks']/90)"
   ]
  },
  {
   "cell_type": "code",
   "execution_count": 139,
   "metadata": {},
   "outputs": [
    {
     "data": {
      "text/html": [
       "<div>\n",
       "<style scoped>\n",
       "    .dataframe tbody tr th:only-of-type {\n",
       "        vertical-align: middle;\n",
       "    }\n",
       "\n",
       "    .dataframe tbody tr th {\n",
       "        vertical-align: top;\n",
       "    }\n",
       "\n",
       "    .dataframe thead th {\n",
       "        text-align: right;\n",
       "    }\n",
       "</style>\n",
       "<table border=\"1\" class=\"dataframe\">\n",
       "  <thead>\n",
       "    <tr style=\"text-align: right;\">\n",
       "      <th></th>\n",
       "      <th>gardes</th>\n",
       "      <th>marks</th>\n",
       "      <th>ScaledMArks</th>\n",
       "    </tr>\n",
       "  </thead>\n",
       "  <tbody>\n",
       "    <tr>\n",
       "      <th>A</th>\n",
       "      <td>4.0</td>\n",
       "      <td>90</td>\n",
       "      <td>100.000000</td>\n",
       "    </tr>\n",
       "    <tr>\n",
       "      <th>A-</th>\n",
       "      <td>3.5</td>\n",
       "      <td>80</td>\n",
       "      <td>88.888889</td>\n",
       "    </tr>\n",
       "    <tr>\n",
       "      <th>B</th>\n",
       "      <td>3.0</td>\n",
       "      <td>60</td>\n",
       "      <td>66.666667</td>\n",
       "    </tr>\n",
       "    <tr>\n",
       "      <th>B+</th>\n",
       "      <td>NaN</td>\n",
       "      <td>70</td>\n",
       "      <td>77.777778</td>\n",
       "    </tr>\n",
       "    <tr>\n",
       "      <th>B-</th>\n",
       "      <td>2.0</td>\n",
       "      <td>50</td>\n",
       "      <td>55.555556</td>\n",
       "    </tr>\n",
       "  </tbody>\n",
       "</table>\n",
       "</div>"
      ],
      "text/plain": [
       "    gardes  marks  ScaledMArks\n",
       "A      4.0     90   100.000000\n",
       "A-     3.5     80    88.888889\n",
       "B      3.0     60    66.666667\n",
       "B+     NaN     70    77.777778\n",
       "B-     2.0     50    55.555556"
      ]
     },
     "execution_count": 139,
     "metadata": {},
     "output_type": "execute_result"
    }
   ],
   "source": [
    "rs"
   ]
  },
  {
   "cell_type": "code",
   "execution_count": 146,
   "metadata": {},
   "outputs": [
    {
     "ename": "KeyError",
     "evalue": "'ScaledMArks'",
     "output_type": "error",
     "traceback": [
      "\u001b[1;31m---------------------------------------------------------------------------\u001b[0m",
      "\u001b[1;31mKeyError\u001b[0m                                  Traceback (most recent call last)",
      "\u001b[1;32m~\\Anaconda3\\lib\\site-packages\\pandas\\core\\indexes\\base.py\u001b[0m in \u001b[0;36mget_loc\u001b[1;34m(self, key, method, tolerance)\u001b[0m\n\u001b[0;32m   2894\u001b[0m             \u001b[1;32mtry\u001b[0m\u001b[1;33m:\u001b[0m\u001b[1;33m\u001b[0m\u001b[1;33m\u001b[0m\u001b[0m\n\u001b[1;32m-> 2895\u001b[1;33m                 \u001b[1;32mreturn\u001b[0m \u001b[0mself\u001b[0m\u001b[1;33m.\u001b[0m\u001b[0m_engine\u001b[0m\u001b[1;33m.\u001b[0m\u001b[0mget_loc\u001b[0m\u001b[1;33m(\u001b[0m\u001b[0mcasted_key\u001b[0m\u001b[1;33m)\u001b[0m\u001b[1;33m\u001b[0m\u001b[1;33m\u001b[0m\u001b[0m\n\u001b[0m\u001b[0;32m   2896\u001b[0m             \u001b[1;32mexcept\u001b[0m \u001b[0mKeyError\u001b[0m \u001b[1;32mas\u001b[0m \u001b[0merr\u001b[0m\u001b[1;33m:\u001b[0m\u001b[1;33m\u001b[0m\u001b[1;33m\u001b[0m\u001b[0m\n",
      "\u001b[1;32mpandas\\_libs\\index.pyx\u001b[0m in \u001b[0;36mpandas._libs.index.IndexEngine.get_loc\u001b[1;34m()\u001b[0m\n",
      "\u001b[1;32mpandas\\_libs\\index.pyx\u001b[0m in \u001b[0;36mpandas._libs.index.IndexEngine.get_loc\u001b[1;34m()\u001b[0m\n",
      "\u001b[1;32mpandas\\_libs\\hashtable_class_helper.pxi\u001b[0m in \u001b[0;36mpandas._libs.hashtable.PyObjectHashTable.get_item\u001b[1;34m()\u001b[0m\n",
      "\u001b[1;32mpandas\\_libs\\hashtable_class_helper.pxi\u001b[0m in \u001b[0;36mpandas._libs.hashtable.PyObjectHashTable.get_item\u001b[1;34m()\u001b[0m\n",
      "\u001b[1;31mKeyError\u001b[0m: 'ScaledMArks'",
      "\nThe above exception was the direct cause of the following exception:\n",
      "\u001b[1;31mKeyError\u001b[0m                                  Traceback (most recent call last)",
      "\u001b[1;32m<ipython-input-146-976fb2438e99>\u001b[0m in \u001b[0;36m<module>\u001b[1;34m\u001b[0m\n\u001b[1;32m----> 1\u001b[1;33m \u001b[1;32mdel\u001b[0m \u001b[0mrs\u001b[0m\u001b[1;33m[\u001b[0m\u001b[1;34m'ScaledMArks'\u001b[0m\u001b[1;33m]\u001b[0m\u001b[1;33m\u001b[0m\u001b[1;33m\u001b[0m\u001b[0m\n\u001b[0m",
      "\u001b[1;32m~\\Anaconda3\\lib\\site-packages\\pandas\\core\\generic.py\u001b[0m in \u001b[0;36m__delitem__\u001b[1;34m(self, key)\u001b[0m\n\u001b[0;32m   3709\u001b[0m             \u001b[1;31m# there was no match, this call should raise the appropriate\u001b[0m\u001b[1;33m\u001b[0m\u001b[1;33m\u001b[0m\u001b[1;33m\u001b[0m\u001b[0m\n\u001b[0;32m   3710\u001b[0m             \u001b[1;31m# exception:\u001b[0m\u001b[1;33m\u001b[0m\u001b[1;33m\u001b[0m\u001b[1;33m\u001b[0m\u001b[0m\n\u001b[1;32m-> 3711\u001b[1;33m             \u001b[0mloc\u001b[0m \u001b[1;33m=\u001b[0m \u001b[0mself\u001b[0m\u001b[1;33m.\u001b[0m\u001b[0maxes\u001b[0m\u001b[1;33m[\u001b[0m\u001b[1;33m-\u001b[0m\u001b[1;36m1\u001b[0m\u001b[1;33m]\u001b[0m\u001b[1;33m.\u001b[0m\u001b[0mget_loc\u001b[0m\u001b[1;33m(\u001b[0m\u001b[0mkey\u001b[0m\u001b[1;33m)\u001b[0m\u001b[1;33m\u001b[0m\u001b[1;33m\u001b[0m\u001b[0m\n\u001b[0m\u001b[0;32m   3712\u001b[0m             \u001b[0mself\u001b[0m\u001b[1;33m.\u001b[0m\u001b[0m_mgr\u001b[0m\u001b[1;33m.\u001b[0m\u001b[0midelete\u001b[0m\u001b[1;33m(\u001b[0m\u001b[0mloc\u001b[0m\u001b[1;33m)\u001b[0m\u001b[1;33m\u001b[0m\u001b[1;33m\u001b[0m\u001b[0m\n\u001b[0;32m   3713\u001b[0m \u001b[1;33m\u001b[0m\u001b[0m\n",
      "\u001b[1;32m~\\Anaconda3\\lib\\site-packages\\pandas\\core\\indexes\\base.py\u001b[0m in \u001b[0;36mget_loc\u001b[1;34m(self, key, method, tolerance)\u001b[0m\n\u001b[0;32m   2895\u001b[0m                 \u001b[1;32mreturn\u001b[0m \u001b[0mself\u001b[0m\u001b[1;33m.\u001b[0m\u001b[0m_engine\u001b[0m\u001b[1;33m.\u001b[0m\u001b[0mget_loc\u001b[0m\u001b[1;33m(\u001b[0m\u001b[0mcasted_key\u001b[0m\u001b[1;33m)\u001b[0m\u001b[1;33m\u001b[0m\u001b[1;33m\u001b[0m\u001b[0m\n\u001b[0;32m   2896\u001b[0m             \u001b[1;32mexcept\u001b[0m \u001b[0mKeyError\u001b[0m \u001b[1;32mas\u001b[0m \u001b[0merr\u001b[0m\u001b[1;33m:\u001b[0m\u001b[1;33m\u001b[0m\u001b[1;33m\u001b[0m\u001b[0m\n\u001b[1;32m-> 2897\u001b[1;33m                 \u001b[1;32mraise\u001b[0m \u001b[0mKeyError\u001b[0m\u001b[1;33m(\u001b[0m\u001b[0mkey\u001b[0m\u001b[1;33m)\u001b[0m \u001b[1;32mfrom\u001b[0m \u001b[0merr\u001b[0m\u001b[1;33m\u001b[0m\u001b[1;33m\u001b[0m\u001b[0m\n\u001b[0m\u001b[0;32m   2898\u001b[0m \u001b[1;33m\u001b[0m\u001b[0m\n\u001b[0;32m   2899\u001b[0m         \u001b[1;32mif\u001b[0m \u001b[0mtolerance\u001b[0m \u001b[1;32mis\u001b[0m \u001b[1;32mnot\u001b[0m \u001b[1;32mNone\u001b[0m\u001b[1;33m:\u001b[0m\u001b[1;33m\u001b[0m\u001b[1;33m\u001b[0m\u001b[0m\n",
      "\u001b[1;31mKeyError\u001b[0m: 'ScaledMArks'"
     ]
    }
   ],
   "source": [
    "# To delete the column\n",
    "del rs['ScaledMArks']"
   ]
  },
  {
   "cell_type": "code",
   "execution_count": 147,
   "metadata": {},
   "outputs": [
    {
     "data": {
      "text/html": [
       "<div>\n",
       "<style scoped>\n",
       "    .dataframe tbody tr th:only-of-type {\n",
       "        vertical-align: middle;\n",
       "    }\n",
       "\n",
       "    .dataframe tbody tr th {\n",
       "        vertical-align: top;\n",
       "    }\n",
       "\n",
       "    .dataframe thead th {\n",
       "        text-align: right;\n",
       "    }\n",
       "</style>\n",
       "<table border=\"1\" class=\"dataframe\">\n",
       "  <thead>\n",
       "    <tr style=\"text-align: right;\">\n",
       "      <th></th>\n",
       "      <th>gardes</th>\n",
       "      <th>marks</th>\n",
       "    </tr>\n",
       "  </thead>\n",
       "  <tbody>\n",
       "    <tr>\n",
       "      <th>A</th>\n",
       "      <td>4.0</td>\n",
       "      <td>90</td>\n",
       "    </tr>\n",
       "    <tr>\n",
       "      <th>A-</th>\n",
       "      <td>3.5</td>\n",
       "      <td>80</td>\n",
       "    </tr>\n",
       "  </tbody>\n",
       "</table>\n",
       "</div>"
      ],
      "text/plain": [
       "    gardes  marks\n",
       "A      4.0     90\n",
       "A-     3.5     80"
      ]
     },
     "execution_count": 147,
     "metadata": {},
     "output_type": "execute_result"
    }
   ],
   "source": [
    "# Indexing\n",
    "G = rs[rs['marks']>70]\n",
    "G"
   ]
  },
  {
   "cell_type": "code",
   "execution_count": 148,
   "metadata": {},
   "outputs": [
    {
     "data": {
      "text/html": [
       "<div>\n",
       "<style scoped>\n",
       "    .dataframe tbody tr th:only-of-type {\n",
       "        vertical-align: middle;\n",
       "    }\n",
       "\n",
       "    .dataframe tbody tr th {\n",
       "        vertical-align: top;\n",
       "    }\n",
       "\n",
       "    .dataframe thead th {\n",
       "        text-align: right;\n",
       "    }\n",
       "</style>\n",
       "<table border=\"1\" class=\"dataframe\">\n",
       "  <thead>\n",
       "    <tr style=\"text-align: right;\">\n",
       "      <th></th>\n",
       "      <th>gardes</th>\n",
       "      <th>marks</th>\n",
       "    </tr>\n",
       "  </thead>\n",
       "  <tbody>\n",
       "    <tr>\n",
       "      <th>A</th>\n",
       "      <td>4.0</td>\n",
       "      <td>90</td>\n",
       "    </tr>\n",
       "    <tr>\n",
       "      <th>A-</th>\n",
       "      <td>3.5</td>\n",
       "      <td>80</td>\n",
       "    </tr>\n",
       "    <tr>\n",
       "      <th>B</th>\n",
       "      <td>3.0</td>\n",
       "      <td>60</td>\n",
       "    </tr>\n",
       "    <tr>\n",
       "      <th>B+</th>\n",
       "      <td>NaN</td>\n",
       "      <td>70</td>\n",
       "    </tr>\n",
       "    <tr>\n",
       "      <th>B-</th>\n",
       "      <td>2.0</td>\n",
       "      <td>50</td>\n",
       "    </tr>\n",
       "  </tbody>\n",
       "</table>\n",
       "</div>"
      ],
      "text/plain": [
       "    gardes  marks\n",
       "A      4.0     90\n",
       "A-     3.5     80\n",
       "B      3.0     60\n",
       "B+     NaN     70\n",
       "B-     2.0     50"
      ]
     },
     "execution_count": 148,
     "metadata": {},
     "output_type": "execute_result"
    }
   ],
   "source": [
    "rs"
   ]
  },
  {
   "cell_type": "code",
   "execution_count": 149,
   "metadata": {},
   "outputs": [
    {
     "data": {
      "text/html": [
       "<div>\n",
       "<style scoped>\n",
       "    .dataframe tbody tr th:only-of-type {\n",
       "        vertical-align: middle;\n",
       "    }\n",
       "\n",
       "    .dataframe tbody tr th {\n",
       "        vertical-align: top;\n",
       "    }\n",
       "\n",
       "    .dataframe thead th {\n",
       "        text-align: right;\n",
       "    }\n",
       "</style>\n",
       "<table border=\"1\" class=\"dataframe\">\n",
       "  <thead>\n",
       "    <tr style=\"text-align: right;\">\n",
       "      <th></th>\n",
       "      <th>a</th>\n",
       "      <th>b</th>\n",
       "      <th>c</th>\n",
       "    </tr>\n",
       "  </thead>\n",
       "  <tbody>\n",
       "    <tr>\n",
       "      <th>0</th>\n",
       "      <td>1.0</td>\n",
       "      <td>4</td>\n",
       "      <td>NaN</td>\n",
       "    </tr>\n",
       "    <tr>\n",
       "      <th>1</th>\n",
       "      <td>NaN</td>\n",
       "      <td>-3</td>\n",
       "      <td>9.0</td>\n",
       "    </tr>\n",
       "  </tbody>\n",
       "</table>\n",
       "</div>"
      ],
      "text/plain": [
       "     a  b    c\n",
       "0  1.0  4  NaN\n",
       "1  NaN -3  9.0"
      ]
     },
     "execution_count": 149,
     "metadata": {},
     "output_type": "execute_result"
    }
   ],
   "source": [
    "# Missing Data\n",
    "A = pd.DataFrame([{'a':1,'b':4},{'b':-3,'c':9}])\n",
    "A"
   ]
  },
  {
   "cell_type": "code",
   "execution_count": 150,
   "metadata": {},
   "outputs": [
    {
     "data": {
      "text/html": [
       "<div>\n",
       "<style scoped>\n",
       "    .dataframe tbody tr th:only-of-type {\n",
       "        vertical-align: middle;\n",
       "    }\n",
       "\n",
       "    .dataframe tbody tr th {\n",
       "        vertical-align: top;\n",
       "    }\n",
       "\n",
       "    .dataframe thead th {\n",
       "        text-align: right;\n",
       "    }\n",
       "</style>\n",
       "<table border=\"1\" class=\"dataframe\">\n",
       "  <thead>\n",
       "    <tr style=\"text-align: right;\">\n",
       "      <th></th>\n",
       "      <th>a</th>\n",
       "      <th>b</th>\n",
       "      <th>c</th>\n",
       "    </tr>\n",
       "  </thead>\n",
       "  <tbody>\n",
       "    <tr>\n",
       "      <th>0</th>\n",
       "      <td>1.0</td>\n",
       "      <td>4</td>\n",
       "      <td>0.0</td>\n",
       "    </tr>\n",
       "    <tr>\n",
       "      <th>1</th>\n",
       "      <td>0.0</td>\n",
       "      <td>-3</td>\n",
       "      <td>9.0</td>\n",
       "    </tr>\n",
       "  </tbody>\n",
       "</table>\n",
       "</div>"
      ],
      "text/plain": [
       "     a  b    c\n",
       "0  1.0  4  0.0\n",
       "1  0.0 -3  9.0"
      ]
     },
     "execution_count": 150,
     "metadata": {},
     "output_type": "execute_result"
    }
   ],
   "source": [
    "A.fillna(0)"
   ]
  },
  {
   "cell_type": "code",
   "execution_count": 151,
   "metadata": {},
   "outputs": [
    {
     "data": {
      "text/html": [
       "<div>\n",
       "<style scoped>\n",
       "    .dataframe tbody tr th:only-of-type {\n",
       "        vertical-align: middle;\n",
       "    }\n",
       "\n",
       "    .dataframe tbody tr th {\n",
       "        vertical-align: top;\n",
       "    }\n",
       "\n",
       "    .dataframe thead th {\n",
       "        text-align: right;\n",
       "    }\n",
       "</style>\n",
       "<table border=\"1\" class=\"dataframe\">\n",
       "  <thead>\n",
       "    <tr style=\"text-align: right;\">\n",
       "      <th></th>\n",
       "      <th>gardes</th>\n",
       "      <th>marks</th>\n",
       "    </tr>\n",
       "  </thead>\n",
       "  <tbody>\n",
       "    <tr>\n",
       "      <th>B-</th>\n",
       "      <td>2.0</td>\n",
       "      <td>50</td>\n",
       "    </tr>\n",
       "    <tr>\n",
       "      <th>B+</th>\n",
       "      <td>NaN</td>\n",
       "      <td>70</td>\n",
       "    </tr>\n",
       "    <tr>\n",
       "      <th>B</th>\n",
       "      <td>3.0</td>\n",
       "      <td>60</td>\n",
       "    </tr>\n",
       "    <tr>\n",
       "      <th>A-</th>\n",
       "      <td>3.5</td>\n",
       "      <td>80</td>\n",
       "    </tr>\n",
       "    <tr>\n",
       "      <th>A</th>\n",
       "      <td>4.0</td>\n",
       "      <td>90</td>\n",
       "    </tr>\n",
       "  </tbody>\n",
       "</table>\n",
       "</div>"
      ],
      "text/plain": [
       "    gardes  marks\n",
       "B-     2.0     50\n",
       "B+     NaN     70\n",
       "B      3.0     60\n",
       "A-     3.5     80\n",
       "A      4.0     90"
      ]
     },
     "execution_count": 151,
     "metadata": {},
     "output_type": "execute_result"
    }
   ],
   "source": [
    "rs.iloc[::-1,:]"
   ]
  },
  {
   "cell_type": "code",
   "execution_count": 19,
   "metadata": {},
   "outputs": [],
   "source": [
    "df = pd.read_csv('C:\\\\Users\\yare01\\Documents\\SMS\\KAPH\\Health_Care_Provider_Credential_Data.csv')"
   ]
  },
  {
   "cell_type": "code",
   "execution_count": 20,
   "metadata": {},
   "outputs": [
    {
     "data": {
      "text/html": [
       "<div>\n",
       "<style scoped>\n",
       "    .dataframe tbody tr th:only-of-type {\n",
       "        vertical-align: middle;\n",
       "    }\n",
       "\n",
       "    .dataframe tbody tr th {\n",
       "        vertical-align: top;\n",
       "    }\n",
       "\n",
       "    .dataframe thead th {\n",
       "        text-align: right;\n",
       "    }\n",
       "</style>\n",
       "<table border=\"1\" class=\"dataframe\">\n",
       "  <thead>\n",
       "    <tr style=\"text-align: right;\">\n",
       "      <th></th>\n",
       "      <th>BirthYear</th>\n",
       "      <th>CEDueDate</th>\n",
       "      <th>FirstIssueDate</th>\n",
       "      <th>LastIssueDate</th>\n",
       "      <th>ExpirationDate</th>\n",
       "    </tr>\n",
       "  </thead>\n",
       "  <tbody>\n",
       "    <tr>\n",
       "      <th>count</th>\n",
       "      <td>1.717596e+06</td>\n",
       "      <td>4.288590e+05</td>\n",
       "      <td>1.588390e+06</td>\n",
       "      <td>1.616418e+06</td>\n",
       "      <td>1.620976e+06</td>\n",
       "    </tr>\n",
       "    <tr>\n",
       "      <th>mean</th>\n",
       "      <td>1.969196e+03</td>\n",
       "      <td>2.019204e+07</td>\n",
       "      <td>2.003112e+07</td>\n",
       "      <td>2.009796e+07</td>\n",
       "      <td>2.010776e+07</td>\n",
       "    </tr>\n",
       "    <tr>\n",
       "      <th>std</th>\n",
       "      <td>1.946263e+01</td>\n",
       "      <td>3.258356e+04</td>\n",
       "      <td>1.486439e+05</td>\n",
       "      <td>1.104917e+05</td>\n",
       "      <td>1.126258e+05</td>\n",
       "    </tr>\n",
       "    <tr>\n",
       "      <th>min</th>\n",
       "      <td>1.800000e+03</td>\n",
       "      <td>1.918123e+07</td>\n",
       "      <td>1.900070e+07</td>\n",
       "      <td>1.902073e+07</td>\n",
       "      <td>1.902073e+07</td>\n",
       "    </tr>\n",
       "    <tr>\n",
       "      <th>25%</th>\n",
       "      <td>1.957000e+03</td>\n",
       "      <td>2.018083e+07</td>\n",
       "      <td>1.996062e+07</td>\n",
       "      <td>2.005070e+07</td>\n",
       "      <td>2.005081e+07</td>\n",
       "    </tr>\n",
       "    <tr>\n",
       "      <th>50%</th>\n",
       "      <td>1.972000e+03</td>\n",
       "      <td>2.020082e+07</td>\n",
       "      <td>2.007101e+07</td>\n",
       "      <td>2.013101e+07</td>\n",
       "      <td>2.014121e+07</td>\n",
       "    </tr>\n",
       "    <tr>\n",
       "      <th>75%</th>\n",
       "      <td>1.984000e+03</td>\n",
       "      <td>2.021080e+07</td>\n",
       "      <td>2.014061e+07</td>\n",
       "      <td>2.019020e+07</td>\n",
       "      <td>2.020041e+07</td>\n",
       "    </tr>\n",
       "    <tr>\n",
       "      <th>max</th>\n",
       "      <td>2.020000e+03</td>\n",
       "      <td>2.121013e+07</td>\n",
       "      <td>2.022053e+07</td>\n",
       "      <td>2.021033e+07</td>\n",
       "      <td>2.032031e+07</td>\n",
       "    </tr>\n",
       "  </tbody>\n",
       "</table>\n",
       "</div>"
      ],
      "text/plain": [
       "          BirthYear     CEDueDate  FirstIssueDate  LastIssueDate  \\\n",
       "count  1.717596e+06  4.288590e+05    1.588390e+06   1.616418e+06   \n",
       "mean   1.969196e+03  2.019204e+07    2.003112e+07   2.009796e+07   \n",
       "std    1.946263e+01  3.258356e+04    1.486439e+05   1.104917e+05   \n",
       "min    1.800000e+03  1.918123e+07    1.900070e+07   1.902073e+07   \n",
       "25%    1.957000e+03  2.018083e+07    1.996062e+07   2.005070e+07   \n",
       "50%    1.972000e+03  2.020082e+07    2.007101e+07   2.013101e+07   \n",
       "75%    1.984000e+03  2.021080e+07    2.014061e+07   2.019020e+07   \n",
       "max    2.020000e+03  2.121013e+07    2.022053e+07   2.021033e+07   \n",
       "\n",
       "       ExpirationDate  \n",
       "count    1.620976e+06  \n",
       "mean     2.010776e+07  \n",
       "std      1.126258e+05  \n",
       "min      1.902073e+07  \n",
       "25%      2.005081e+07  \n",
       "50%      2.014121e+07  \n",
       "75%      2.020041e+07  \n",
       "max      2.032031e+07  "
      ]
     },
     "execution_count": 20,
     "metadata": {},
     "output_type": "execute_result"
    }
   ],
   "source": [
    "df.describe()"
   ]
  },
  {
   "cell_type": "code",
   "execution_count": 21,
   "metadata": {},
   "outputs": [
    {
     "data": {
      "text/html": [
       "<div>\n",
       "<style scoped>\n",
       "    .dataframe tbody tr th:only-of-type {\n",
       "        vertical-align: middle;\n",
       "    }\n",
       "\n",
       "    .dataframe tbody tr th {\n",
       "        vertical-align: top;\n",
       "    }\n",
       "\n",
       "    .dataframe thead th {\n",
       "        text-align: right;\n",
       "    }\n",
       "</style>\n",
       "<table border=\"1\" class=\"dataframe\">\n",
       "  <thead>\n",
       "    <tr style=\"text-align: right;\">\n",
       "      <th></th>\n",
       "      <th>CredentialNumber</th>\n",
       "      <th>LastName</th>\n",
       "      <th>FirstName</th>\n",
       "      <th>MiddleName</th>\n",
       "      <th>CredentialType</th>\n",
       "      <th>Status</th>\n",
       "      <th>BirthYear</th>\n",
       "      <th>CEDueDate</th>\n",
       "      <th>FirstIssueDate</th>\n",
       "      <th>LastIssueDate</th>\n",
       "      <th>ExpirationDate</th>\n",
       "      <th>ActionTaken</th>\n",
       "    </tr>\n",
       "  </thead>\n",
       "  <tbody>\n",
       "    <tr>\n",
       "      <th>0</th>\n",
       "      <td>HC60243358</td>\n",
       "      <td>Sangani</td>\n",
       "      <td>Vasanti</td>\n",
       "      <td>Vinud</td>\n",
       "      <td>Health Care Assistant Certification</td>\n",
       "      <td>SUPERSEDED</td>\n",
       "      <td>1969.0</td>\n",
       "      <td>NaN</td>\n",
       "      <td>20110927.0</td>\n",
       "      <td>20110927.0</td>\n",
       "      <td>20130927.0</td>\n",
       "      <td>No</td>\n",
       "    </tr>\n",
       "    <tr>\n",
       "      <th>1</th>\n",
       "      <td>D160054498</td>\n",
       "      <td>Summers</td>\n",
       "      <td>Kinda</td>\n",
       "      <td>Lee</td>\n",
       "      <td>Dental Assistant Registration</td>\n",
       "      <td>EXPIRED</td>\n",
       "      <td>1968.0</td>\n",
       "      <td>NaN</td>\n",
       "      <td>20081206.0</td>\n",
       "      <td>20161109.0</td>\n",
       "      <td>20171116.0</td>\n",
       "      <td>No</td>\n",
       "    </tr>\n",
       "    <tr>\n",
       "      <th>2</th>\n",
       "      <td>NA60113523</td>\n",
       "      <td>Singh</td>\n",
       "      <td>Wassan</td>\n",
       "      <td>NaN</td>\n",
       "      <td>Nursing Assistant Registration</td>\n",
       "      <td>EXPIRED</td>\n",
       "      <td>1984.0</td>\n",
       "      <td>NaN</td>\n",
       "      <td>20091008.0</td>\n",
       "      <td>20091008.0</td>\n",
       "      <td>20100826.0</td>\n",
       "      <td>No</td>\n",
       "    </tr>\n",
       "    <tr>\n",
       "      <th>3</th>\n",
       "      <td>RC60077317</td>\n",
       "      <td>Turner</td>\n",
       "      <td>India</td>\n",
       "      <td>Susanne</td>\n",
       "      <td>Counselor Registration</td>\n",
       "      <td>EXPIRED</td>\n",
       "      <td>1957.0</td>\n",
       "      <td>NaN</td>\n",
       "      <td>20090224.0</td>\n",
       "      <td>20090224.0</td>\n",
       "      <td>20100517.0</td>\n",
       "      <td>No</td>\n",
       "    </tr>\n",
       "    <tr>\n",
       "      <th>4</th>\n",
       "      <td>NA60052832</td>\n",
       "      <td>Castro</td>\n",
       "      <td>Brittany</td>\n",
       "      <td>Marie</td>\n",
       "      <td>Nursing Assistant Registration</td>\n",
       "      <td>EXPIRED</td>\n",
       "      <td>1990.0</td>\n",
       "      <td>NaN</td>\n",
       "      <td>20081110.0</td>\n",
       "      <td>20081110.0</td>\n",
       "      <td>20090413.0</td>\n",
       "      <td>No</td>\n",
       "    </tr>\n",
       "  </tbody>\n",
       "</table>\n",
       "</div>"
      ],
      "text/plain": [
       "  CredentialNumber LastName FirstName MiddleName  \\\n",
       "0       HC60243358  Sangani   Vasanti      Vinud   \n",
       "1       D160054498  Summers     Kinda        Lee   \n",
       "2       NA60113523    Singh    Wassan        NaN   \n",
       "3       RC60077317   Turner     India    Susanne   \n",
       "4       NA60052832   Castro  Brittany      Marie   \n",
       "\n",
       "                        CredentialType      Status  BirthYear  CEDueDate  \\\n",
       "0  Health Care Assistant Certification  SUPERSEDED     1969.0        NaN   \n",
       "1        Dental Assistant Registration     EXPIRED     1968.0        NaN   \n",
       "2       Nursing Assistant Registration     EXPIRED     1984.0        NaN   \n",
       "3               Counselor Registration     EXPIRED     1957.0        NaN   \n",
       "4       Nursing Assistant Registration     EXPIRED     1990.0        NaN   \n",
       "\n",
       "   FirstIssueDate  LastIssueDate  ExpirationDate ActionTaken  \n",
       "0      20110927.0     20110927.0      20130927.0          No  \n",
       "1      20081206.0     20161109.0      20171116.0          No  \n",
       "2      20091008.0     20091008.0      20100826.0          No  \n",
       "3      20090224.0     20090224.0      20100517.0          No  \n",
       "4      20081110.0     20081110.0      20090413.0          No  "
      ]
     },
     "execution_count": 21,
     "metadata": {},
     "output_type": "execute_result"
    }
   ],
   "source": [
    "df.head()"
   ]
  },
  {
   "cell_type": "code",
   "execution_count": 22,
   "metadata": {},
   "outputs": [],
   "source": [
    "from sklearn.impute import SimpleImputer"
   ]
  },
  {
   "cell_type": "code",
   "execution_count": 23,
   "metadata": {},
   "outputs": [],
   "source": [
    "df.drop(['CEDueDate','MiddleName'], axis =1,inplace=True)"
   ]
  },
  {
   "cell_type": "code",
   "execution_count": 24,
   "metadata": {},
   "outputs": [
    {
     "data": {
      "text/html": [
       "<div>\n",
       "<style scoped>\n",
       "    .dataframe tbody tr th:only-of-type {\n",
       "        vertical-align: middle;\n",
       "    }\n",
       "\n",
       "    .dataframe tbody tr th {\n",
       "        vertical-align: top;\n",
       "    }\n",
       "\n",
       "    .dataframe thead th {\n",
       "        text-align: right;\n",
       "    }\n",
       "</style>\n",
       "<table border=\"1\" class=\"dataframe\">\n",
       "  <thead>\n",
       "    <tr style=\"text-align: right;\">\n",
       "      <th></th>\n",
       "      <th>CredentialNumber</th>\n",
       "      <th>LastName</th>\n",
       "      <th>FirstName</th>\n",
       "      <th>CredentialType</th>\n",
       "      <th>Status</th>\n",
       "      <th>BirthYear</th>\n",
       "      <th>FirstIssueDate</th>\n",
       "      <th>LastIssueDate</th>\n",
       "      <th>ExpirationDate</th>\n",
       "      <th>ActionTaken</th>\n",
       "    </tr>\n",
       "  </thead>\n",
       "  <tbody>\n",
       "    <tr>\n",
       "      <th>0</th>\n",
       "      <td>HC60243358</td>\n",
       "      <td>Sangani</td>\n",
       "      <td>Vasanti</td>\n",
       "      <td>Health Care Assistant Certification</td>\n",
       "      <td>SUPERSEDED</td>\n",
       "      <td>1969.0</td>\n",
       "      <td>20110927.0</td>\n",
       "      <td>20110927.0</td>\n",
       "      <td>20130927.0</td>\n",
       "      <td>No</td>\n",
       "    </tr>\n",
       "    <tr>\n",
       "      <th>1</th>\n",
       "      <td>D160054498</td>\n",
       "      <td>Summers</td>\n",
       "      <td>Kinda</td>\n",
       "      <td>Dental Assistant Registration</td>\n",
       "      <td>EXPIRED</td>\n",
       "      <td>1968.0</td>\n",
       "      <td>20081206.0</td>\n",
       "      <td>20161109.0</td>\n",
       "      <td>20171116.0</td>\n",
       "      <td>No</td>\n",
       "    </tr>\n",
       "    <tr>\n",
       "      <th>2</th>\n",
       "      <td>NA60113523</td>\n",
       "      <td>Singh</td>\n",
       "      <td>Wassan</td>\n",
       "      <td>Nursing Assistant Registration</td>\n",
       "      <td>EXPIRED</td>\n",
       "      <td>1984.0</td>\n",
       "      <td>20091008.0</td>\n",
       "      <td>20091008.0</td>\n",
       "      <td>20100826.0</td>\n",
       "      <td>No</td>\n",
       "    </tr>\n",
       "    <tr>\n",
       "      <th>3</th>\n",
       "      <td>RC60077317</td>\n",
       "      <td>Turner</td>\n",
       "      <td>India</td>\n",
       "      <td>Counselor Registration</td>\n",
       "      <td>EXPIRED</td>\n",
       "      <td>1957.0</td>\n",
       "      <td>20090224.0</td>\n",
       "      <td>20090224.0</td>\n",
       "      <td>20100517.0</td>\n",
       "      <td>No</td>\n",
       "    </tr>\n",
       "    <tr>\n",
       "      <th>4</th>\n",
       "      <td>NA60052832</td>\n",
       "      <td>Castro</td>\n",
       "      <td>Brittany</td>\n",
       "      <td>Nursing Assistant Registration</td>\n",
       "      <td>EXPIRED</td>\n",
       "      <td>1990.0</td>\n",
       "      <td>20081110.0</td>\n",
       "      <td>20081110.0</td>\n",
       "      <td>20090413.0</td>\n",
       "      <td>No</td>\n",
       "    </tr>\n",
       "    <tr>\n",
       "      <th>5</th>\n",
       "      <td>LP00043030</td>\n",
       "      <td>Gill</td>\n",
       "      <td>Stacey</td>\n",
       "      <td>Licensed Practical Nurse</td>\n",
       "      <td>EXPIRED</td>\n",
       "      <td>1967.0</td>\n",
       "      <td>19931013.0</td>\n",
       "      <td>19961202.0</td>\n",
       "      <td>19961202.0</td>\n",
       "      <td>No</td>\n",
       "    </tr>\n",
       "  </tbody>\n",
       "</table>\n",
       "</div>"
      ],
      "text/plain": [
       "  CredentialNumber LastName FirstName                       CredentialType  \\\n",
       "0       HC60243358  Sangani   Vasanti  Health Care Assistant Certification   \n",
       "1       D160054498  Summers     Kinda        Dental Assistant Registration   \n",
       "2       NA60113523    Singh    Wassan       Nursing Assistant Registration   \n",
       "3       RC60077317   Turner     India               Counselor Registration   \n",
       "4       NA60052832   Castro  Brittany       Nursing Assistant Registration   \n",
       "5       LP00043030     Gill    Stacey             Licensed Practical Nurse   \n",
       "\n",
       "       Status  BirthYear  FirstIssueDate  LastIssueDate  ExpirationDate  \\\n",
       "0  SUPERSEDED     1969.0      20110927.0     20110927.0      20130927.0   \n",
       "1     EXPIRED     1968.0      20081206.0     20161109.0      20171116.0   \n",
       "2     EXPIRED     1984.0      20091008.0     20091008.0      20100826.0   \n",
       "3     EXPIRED     1957.0      20090224.0     20090224.0      20100517.0   \n",
       "4     EXPIRED     1990.0      20081110.0     20081110.0      20090413.0   \n",
       "5     EXPIRED     1967.0      19931013.0     19961202.0      19961202.0   \n",
       "\n",
       "  ActionTaken  \n",
       "0          No  \n",
       "1          No  \n",
       "2          No  \n",
       "3          No  \n",
       "4          No  \n",
       "5          No  "
      ]
     },
     "execution_count": 24,
     "metadata": {},
     "output_type": "execute_result"
    }
   ],
   "source": [
    "df.head(6)"
   ]
  },
  {
   "cell_type": "code",
   "execution_count": 26,
   "metadata": {},
   "outputs": [],
   "source": [
    "df.rename(columns={'CredentialNumber':'CredNo'},inplace=True)"
   ]
  },
  {
   "cell_type": "code",
   "execution_count": 17,
   "metadata": {},
   "outputs": [
    {
     "data": {
      "text/html": [
       "<div>\n",
       "<style scoped>\n",
       "    .dataframe tbody tr th:only-of-type {\n",
       "        vertical-align: middle;\n",
       "    }\n",
       "\n",
       "    .dataframe tbody tr th {\n",
       "        vertical-align: top;\n",
       "    }\n",
       "\n",
       "    .dataframe thead th {\n",
       "        text-align: right;\n",
       "    }\n",
       "</style>\n",
       "<table border=\"1\" class=\"dataframe\">\n",
       "  <thead>\n",
       "    <tr style=\"text-align: right;\">\n",
       "      <th></th>\n",
       "      <th>CredNo</th>\n",
       "      <th>LastName</th>\n",
       "      <th>FirstName</th>\n",
       "      <th>CredentialType</th>\n",
       "      <th>Status</th>\n",
       "      <th>BirthYear</th>\n",
       "      <th>FirstIssueDate</th>\n",
       "      <th>LastIssueDate</th>\n",
       "      <th>ExpirationDate</th>\n",
       "      <th>ActionTaken</th>\n",
       "    </tr>\n",
       "  </thead>\n",
       "  <tbody>\n",
       "    <tr>\n",
       "      <th>0</th>\n",
       "      <td>HC60243358</td>\n",
       "      <td>Sangani</td>\n",
       "      <td>Vasanti</td>\n",
       "      <td>Health Care Assistant Certification</td>\n",
       "      <td>SUPERSEDED</td>\n",
       "      <td>1969.0</td>\n",
       "      <td>20110927.0</td>\n",
       "      <td>20110927.0</td>\n",
       "      <td>20130927.0</td>\n",
       "      <td>No</td>\n",
       "    </tr>\n",
       "    <tr>\n",
       "      <th>1</th>\n",
       "      <td>D160054498</td>\n",
       "      <td>Summers</td>\n",
       "      <td>Kinda</td>\n",
       "      <td>Dental Assistant Registration</td>\n",
       "      <td>EXPIRED</td>\n",
       "      <td>1968.0</td>\n",
       "      <td>20081206.0</td>\n",
       "      <td>20161109.0</td>\n",
       "      <td>20171116.0</td>\n",
       "      <td>No</td>\n",
       "    </tr>\n",
       "    <tr>\n",
       "      <th>2</th>\n",
       "      <td>NA60113523</td>\n",
       "      <td>Singh</td>\n",
       "      <td>Wassan</td>\n",
       "      <td>Nursing Assistant Registration</td>\n",
       "      <td>EXPIRED</td>\n",
       "      <td>1984.0</td>\n",
       "      <td>20091008.0</td>\n",
       "      <td>20091008.0</td>\n",
       "      <td>20100826.0</td>\n",
       "      <td>No</td>\n",
       "    </tr>\n",
       "    <tr>\n",
       "      <th>3</th>\n",
       "      <td>RC60077317</td>\n",
       "      <td>Turner</td>\n",
       "      <td>India</td>\n",
       "      <td>Counselor Registration</td>\n",
       "      <td>EXPIRED</td>\n",
       "      <td>1957.0</td>\n",
       "      <td>20090224.0</td>\n",
       "      <td>20090224.0</td>\n",
       "      <td>20100517.0</td>\n",
       "      <td>No</td>\n",
       "    </tr>\n",
       "    <tr>\n",
       "      <th>4</th>\n",
       "      <td>NA60052832</td>\n",
       "      <td>Castro</td>\n",
       "      <td>Brittany</td>\n",
       "      <td>Nursing Assistant Registration</td>\n",
       "      <td>EXPIRED</td>\n",
       "      <td>1990.0</td>\n",
       "      <td>20081110.0</td>\n",
       "      <td>20081110.0</td>\n",
       "      <td>20090413.0</td>\n",
       "      <td>No</td>\n",
       "    </tr>\n",
       "  </tbody>\n",
       "</table>\n",
       "</div>"
      ],
      "text/plain": [
       "       CredNo LastName FirstName                       CredentialType  \\\n",
       "0  HC60243358  Sangani   Vasanti  Health Care Assistant Certification   \n",
       "1  D160054498  Summers     Kinda        Dental Assistant Registration   \n",
       "2  NA60113523    Singh    Wassan       Nursing Assistant Registration   \n",
       "3  RC60077317   Turner     India               Counselor Registration   \n",
       "4  NA60052832   Castro  Brittany       Nursing Assistant Registration   \n",
       "\n",
       "       Status  BirthYear  FirstIssueDate  LastIssueDate  ExpirationDate  \\\n",
       "0  SUPERSEDED     1969.0      20110927.0     20110927.0      20130927.0   \n",
       "1     EXPIRED     1968.0      20081206.0     20161109.0      20171116.0   \n",
       "2     EXPIRED     1984.0      20091008.0     20091008.0      20100826.0   \n",
       "3     EXPIRED     1957.0      20090224.0     20090224.0      20100517.0   \n",
       "4     EXPIRED     1990.0      20081110.0     20081110.0      20090413.0   \n",
       "\n",
       "  ActionTaken  \n",
       "0          No  \n",
       "1          No  \n",
       "2          No  \n",
       "3          No  \n",
       "4          No  "
      ]
     },
     "execution_count": 17,
     "metadata": {},
     "output_type": "execute_result"
    }
   ],
   "source": [
    "df.head()"
   ]
  },
  {
   "cell_type": "code",
   "execution_count": 29,
   "metadata": {},
   "outputs": [],
   "source": [
    "# To change the date format into pandas date format\n",
    "df['FirstIssueDate']=pd.to_datetime(df['FirstIssueDate'])"
   ]
  },
  {
   "cell_type": "code",
   "execution_count": 28,
   "metadata": {},
   "outputs": [
    {
     "data": {
      "text/html": [
       "<div>\n",
       "<style scoped>\n",
       "    .dataframe tbody tr th:only-of-type {\n",
       "        vertical-align: middle;\n",
       "    }\n",
       "\n",
       "    .dataframe tbody tr th {\n",
       "        vertical-align: top;\n",
       "    }\n",
       "\n",
       "    .dataframe thead th {\n",
       "        text-align: right;\n",
       "    }\n",
       "</style>\n",
       "<table border=\"1\" class=\"dataframe\">\n",
       "  <thead>\n",
       "    <tr style=\"text-align: right;\">\n",
       "      <th></th>\n",
       "      <th>CredNo</th>\n",
       "      <th>LastName</th>\n",
       "      <th>FirstName</th>\n",
       "      <th>CredentialType</th>\n",
       "      <th>Status</th>\n",
       "      <th>BirthYear</th>\n",
       "      <th>FirstIssueDate</th>\n",
       "      <th>LastIssueDate</th>\n",
       "      <th>ExpirationDate</th>\n",
       "      <th>ActionTaken</th>\n",
       "    </tr>\n",
       "  </thead>\n",
       "  <tbody>\n",
       "    <tr>\n",
       "      <th>0</th>\n",
       "      <td>HC60243358</td>\n",
       "      <td>Sangani</td>\n",
       "      <td>Vasanti</td>\n",
       "      <td>Health Care Assistant Certification</td>\n",
       "      <td>SUPERSEDED</td>\n",
       "      <td>1969.0</td>\n",
       "      <td>1970-01-01 00:00:00.020110927</td>\n",
       "      <td>20110927.0</td>\n",
       "      <td>20130927.0</td>\n",
       "      <td>No</td>\n",
       "    </tr>\n",
       "    <tr>\n",
       "      <th>1</th>\n",
       "      <td>D160054498</td>\n",
       "      <td>Summers</td>\n",
       "      <td>Kinda</td>\n",
       "      <td>Dental Assistant Registration</td>\n",
       "      <td>EXPIRED</td>\n",
       "      <td>1968.0</td>\n",
       "      <td>1970-01-01 00:00:00.020081206</td>\n",
       "      <td>20161109.0</td>\n",
       "      <td>20171116.0</td>\n",
       "      <td>No</td>\n",
       "    </tr>\n",
       "    <tr>\n",
       "      <th>2</th>\n",
       "      <td>NA60113523</td>\n",
       "      <td>Singh</td>\n",
       "      <td>Wassan</td>\n",
       "      <td>Nursing Assistant Registration</td>\n",
       "      <td>EXPIRED</td>\n",
       "      <td>1984.0</td>\n",
       "      <td>1970-01-01 00:00:00.020091008</td>\n",
       "      <td>20091008.0</td>\n",
       "      <td>20100826.0</td>\n",
       "      <td>No</td>\n",
       "    </tr>\n",
       "    <tr>\n",
       "      <th>3</th>\n",
       "      <td>RC60077317</td>\n",
       "      <td>Turner</td>\n",
       "      <td>India</td>\n",
       "      <td>Counselor Registration</td>\n",
       "      <td>EXPIRED</td>\n",
       "      <td>1957.0</td>\n",
       "      <td>1970-01-01 00:00:00.020090224</td>\n",
       "      <td>20090224.0</td>\n",
       "      <td>20100517.0</td>\n",
       "      <td>No</td>\n",
       "    </tr>\n",
       "    <tr>\n",
       "      <th>4</th>\n",
       "      <td>NA60052832</td>\n",
       "      <td>Castro</td>\n",
       "      <td>Brittany</td>\n",
       "      <td>Nursing Assistant Registration</td>\n",
       "      <td>EXPIRED</td>\n",
       "      <td>1990.0</td>\n",
       "      <td>1970-01-01 00:00:00.020081110</td>\n",
       "      <td>20081110.0</td>\n",
       "      <td>20090413.0</td>\n",
       "      <td>No</td>\n",
       "    </tr>\n",
       "  </tbody>\n",
       "</table>\n",
       "</div>"
      ],
      "text/plain": [
       "       CredNo LastName FirstName                       CredentialType  \\\n",
       "0  HC60243358  Sangani   Vasanti  Health Care Assistant Certification   \n",
       "1  D160054498  Summers     Kinda        Dental Assistant Registration   \n",
       "2  NA60113523    Singh    Wassan       Nursing Assistant Registration   \n",
       "3  RC60077317   Turner     India               Counselor Registration   \n",
       "4  NA60052832   Castro  Brittany       Nursing Assistant Registration   \n",
       "\n",
       "       Status  BirthYear                FirstIssueDate  LastIssueDate  \\\n",
       "0  SUPERSEDED     1969.0 1970-01-01 00:00:00.020110927     20110927.0   \n",
       "1     EXPIRED     1968.0 1970-01-01 00:00:00.020081206     20161109.0   \n",
       "2     EXPIRED     1984.0 1970-01-01 00:00:00.020091008     20091008.0   \n",
       "3     EXPIRED     1957.0 1970-01-01 00:00:00.020090224     20090224.0   \n",
       "4     EXPIRED     1990.0 1970-01-01 00:00:00.020081110     20081110.0   \n",
       "\n",
       "   ExpirationDate ActionTaken  \n",
       "0      20130927.0          No  \n",
       "1      20171116.0          No  \n",
       "2      20100826.0          No  \n",
       "3      20100517.0          No  \n",
       "4      20090413.0          No  "
      ]
     },
     "execution_count": 28,
     "metadata": {},
     "output_type": "execute_result"
    }
   ],
   "source": [
    "df.head()"
   ]
  },
  {
   "cell_type": "code",
   "execution_count": null,
   "metadata": {},
   "outputs": [],
   "source": []
  },
  {
   "cell_type": "code",
   "execution_count": 30,
   "metadata": {},
   "outputs": [
    {
     "name": "stdout",
     "output_type": "stream",
     "text": [
      "<class 'pandas.core.frame.DataFrame'>\n",
      "RangeIndex: 1718301 entries, 0 to 1718300\n",
      "Data columns (total 10 columns):\n",
      " #   Column          Dtype         \n",
      "---  ------          -----         \n",
      " 0   CredNo          object        \n",
      " 1   LastName        object        \n",
      " 2   FirstName       object        \n",
      " 3   CredentialType  object        \n",
      " 4   Status          object        \n",
      " 5   BirthYear       float64       \n",
      " 6   FirstIssueDate  datetime64[ns]\n",
      " 7   LastIssueDate   float64       \n",
      " 8   ExpirationDate  float64       \n",
      " 9   ActionTaken     object        \n",
      "dtypes: datetime64[ns](1), float64(3), object(6)\n",
      "memory usage: 131.1+ MB\n"
     ]
    }
   ],
   "source": [
    "df.info()"
   ]
  },
  {
   "cell_type": "code",
   "execution_count": 39,
   "metadata": {},
   "outputs": [],
   "source": [
    "# To group by the data according to staus and add dates\n",
    "fd2 = df.groupby('Status')[['Status','LastIssueDate','ExpirationDate']].sum().reset_index()"
   ]
  },
  {
   "cell_type": "code",
   "execution_count": 40,
   "metadata": {},
   "outputs": [
    {
     "data": {
      "text/html": [
       "<div>\n",
       "<style scoped>\n",
       "    .dataframe tbody tr th:only-of-type {\n",
       "        vertical-align: middle;\n",
       "    }\n",
       "\n",
       "    .dataframe tbody tr th {\n",
       "        vertical-align: top;\n",
       "    }\n",
       "\n",
       "    .dataframe thead th {\n",
       "        text-align: right;\n",
       "    }\n",
       "</style>\n",
       "<table border=\"1\" class=\"dataframe\">\n",
       "  <thead>\n",
       "    <tr style=\"text-align: right;\">\n",
       "      <th></th>\n",
       "      <th>Status</th>\n",
       "      <th>LastIssueDate</th>\n",
       "      <th>ExpirationDate</th>\n",
       "    </tr>\n",
       "  </thead>\n",
       "  <tbody>\n",
       "    <tr>\n",
       "      <th>0</th>\n",
       "      <td>ACTIVE</td>\n",
       "      <td>9.447576e+12</td>\n",
       "      <td>9.427539e+12</td>\n",
       "    </tr>\n",
       "    <tr>\n",
       "      <th>1</th>\n",
       "      <td>ACTIVE NOT RENEWABLE</td>\n",
       "      <td>8.326263e+10</td>\n",
       "      <td>8.335316e+10</td>\n",
       "    </tr>\n",
       "    <tr>\n",
       "      <th>2</th>\n",
       "      <td>ACTIVE ON PROBATION</td>\n",
       "      <td>3.815925e+09</td>\n",
       "      <td>3.818057e+09</td>\n",
       "    </tr>\n",
       "    <tr>\n",
       "      <th>3</th>\n",
       "      <td>ACTIVE PROVISIONAL</td>\n",
       "      <td>1.615266e+08</td>\n",
       "      <td>1.616361e+08</td>\n",
       "    </tr>\n",
       "    <tr>\n",
       "      <th>4</th>\n",
       "      <td>ACTIVE WITH CONDITIONS</td>\n",
       "      <td>9.206797e+09</td>\n",
       "      <td>9.212235e+09</td>\n",
       "    </tr>\n",
       "    <tr>\n",
       "      <th>5</th>\n",
       "      <td>ACTIVE WITH RESTRICTIONS</td>\n",
       "      <td>7.267820e+08</td>\n",
       "      <td>7.273631e+08</td>\n",
       "    </tr>\n",
       "    <tr>\n",
       "      <th>6</th>\n",
       "      <td>APPROVED</td>\n",
       "      <td>1.674944e+09</td>\n",
       "      <td>1.675797e+09</td>\n",
       "    </tr>\n",
       "    <tr>\n",
       "      <th>7</th>\n",
       "      <td>CLOSED</td>\n",
       "      <td>8.338126e+10</td>\n",
       "      <td>8.242185e+10</td>\n",
       "    </tr>\n",
       "    <tr>\n",
       "      <th>8</th>\n",
       "      <td>DENIED LICENSURE</td>\n",
       "      <td>2.365484e+09</td>\n",
       "      <td>1.904682e+09</td>\n",
       "    </tr>\n",
       "    <tr>\n",
       "      <th>9</th>\n",
       "      <td>EXPIRED</td>\n",
       "      <td>2.088875e+13</td>\n",
       "      <td>2.101660e+13</td>\n",
       "    </tr>\n",
       "    <tr>\n",
       "      <th>10</th>\n",
       "      <td>INACTIVE</td>\n",
       "      <td>9.134203e+10</td>\n",
       "      <td>9.137370e+10</td>\n",
       "    </tr>\n",
       "    <tr>\n",
       "      <th>11</th>\n",
       "      <td>INACTIVE MILITARY RELATED</td>\n",
       "      <td>8.883511e+08</td>\n",
       "      <td>8.888330e+08</td>\n",
       "    </tr>\n",
       "    <tr>\n",
       "      <th>12</th>\n",
       "      <td>INOPERABLE</td>\n",
       "      <td>5.022334e+10</td>\n",
       "      <td>4.889610e+10</td>\n",
       "    </tr>\n",
       "    <tr>\n",
       "      <th>13</th>\n",
       "      <td>MILITARY</td>\n",
       "      <td>8.378981e+09</td>\n",
       "      <td>8.383772e+09</td>\n",
       "    </tr>\n",
       "    <tr>\n",
       "      <th>14</th>\n",
       "      <td>PENDING</td>\n",
       "      <td>4.186709e+10</td>\n",
       "      <td>4.160350e+10</td>\n",
       "    </tr>\n",
       "    <tr>\n",
       "      <th>15</th>\n",
       "      <td>RETIRED</td>\n",
       "      <td>3.856419e+09</td>\n",
       "      <td>3.858577e+09</td>\n",
       "    </tr>\n",
       "    <tr>\n",
       "      <th>16</th>\n",
       "      <td>RETIRED ACTIVE</td>\n",
       "      <td>9.772328e+10</td>\n",
       "      <td>9.777624e+10</td>\n",
       "    </tr>\n",
       "    <tr>\n",
       "      <th>17</th>\n",
       "      <td>RETIRED ACTIVE IN-STATE</td>\n",
       "      <td>1.340317e+10</td>\n",
       "      <td>1.341726e+10</td>\n",
       "    </tr>\n",
       "    <tr>\n",
       "      <th>18</th>\n",
       "      <td>RETIRED ACTIVE OUT-OF-STATE</td>\n",
       "      <td>3.209428e+09</td>\n",
       "      <td>3.212772e+09</td>\n",
       "    </tr>\n",
       "    <tr>\n",
       "      <th>19</th>\n",
       "      <td>REVOKED</td>\n",
       "      <td>5.064256e+10</td>\n",
       "      <td>5.065237e+10</td>\n",
       "    </tr>\n",
       "    <tr>\n",
       "      <th>20</th>\n",
       "      <td>SUMMARY LIMITATION</td>\n",
       "      <td>4.014084e+07</td>\n",
       "      <td>4.016055e+07</td>\n",
       "    </tr>\n",
       "    <tr>\n",
       "      <th>21</th>\n",
       "      <td>SUMMARY RESTRICTION</td>\n",
       "      <td>1.009240e+08</td>\n",
       "      <td>1.010242e+08</td>\n",
       "    </tr>\n",
       "    <tr>\n",
       "      <th>22</th>\n",
       "      <td>SUMMARY SUSPENSION</td>\n",
       "      <td>8.272085e+08</td>\n",
       "      <td>8.274905e+08</td>\n",
       "    </tr>\n",
       "    <tr>\n",
       "      <th>23</th>\n",
       "      <td>SUPERSEDED</td>\n",
       "      <td>1.252175e+12</td>\n",
       "      <td>1.252877e+12</td>\n",
       "    </tr>\n",
       "    <tr>\n",
       "      <th>24</th>\n",
       "      <td>SURRENDER</td>\n",
       "      <td>5.882009e+09</td>\n",
       "      <td>5.884635e+09</td>\n",
       "    </tr>\n",
       "    <tr>\n",
       "      <th>25</th>\n",
       "      <td>SUSPENDED</td>\n",
       "      <td>1.060166e+11</td>\n",
       "      <td>1.061763e+11</td>\n",
       "    </tr>\n",
       "    <tr>\n",
       "      <th>26</th>\n",
       "      <td>TERMINATED</td>\n",
       "      <td>2.309726e+11</td>\n",
       "      <td>2.325688e+11</td>\n",
       "    </tr>\n",
       "    <tr>\n",
       "      <th>27</th>\n",
       "      <td>VOLUNTARY SURRENDER</td>\n",
       "      <td>8.218255e+09</td>\n",
       "      <td>8.222390e+09</td>\n",
       "    </tr>\n",
       "    <tr>\n",
       "      <th>28</th>\n",
       "      <td>WITHDRAWN</td>\n",
       "      <td>1.996032e+07</td>\n",
       "      <td>2.007110e+07</td>\n",
       "    </tr>\n",
       "  </tbody>\n",
       "</table>\n",
       "</div>"
      ],
      "text/plain": [
       "                         Status  LastIssueDate  ExpirationDate\n",
       "0                        ACTIVE   9.447576e+12    9.427539e+12\n",
       "1          ACTIVE NOT RENEWABLE   8.326263e+10    8.335316e+10\n",
       "2           ACTIVE ON PROBATION   3.815925e+09    3.818057e+09\n",
       "3            ACTIVE PROVISIONAL   1.615266e+08    1.616361e+08\n",
       "4        ACTIVE WITH CONDITIONS   9.206797e+09    9.212235e+09\n",
       "5      ACTIVE WITH RESTRICTIONS   7.267820e+08    7.273631e+08\n",
       "6                      APPROVED   1.674944e+09    1.675797e+09\n",
       "7                        CLOSED   8.338126e+10    8.242185e+10\n",
       "8              DENIED LICENSURE   2.365484e+09    1.904682e+09\n",
       "9                       EXPIRED   2.088875e+13    2.101660e+13\n",
       "10                     INACTIVE   9.134203e+10    9.137370e+10\n",
       "11    INACTIVE MILITARY RELATED   8.883511e+08    8.888330e+08\n",
       "12                   INOPERABLE   5.022334e+10    4.889610e+10\n",
       "13                     MILITARY   8.378981e+09    8.383772e+09\n",
       "14                      PENDING   4.186709e+10    4.160350e+10\n",
       "15                      RETIRED   3.856419e+09    3.858577e+09\n",
       "16               RETIRED ACTIVE   9.772328e+10    9.777624e+10\n",
       "17      RETIRED ACTIVE IN-STATE   1.340317e+10    1.341726e+10\n",
       "18  RETIRED ACTIVE OUT-OF-STATE   3.209428e+09    3.212772e+09\n",
       "19                      REVOKED   5.064256e+10    5.065237e+10\n",
       "20           SUMMARY LIMITATION   4.014084e+07    4.016055e+07\n",
       "21          SUMMARY RESTRICTION   1.009240e+08    1.010242e+08\n",
       "22           SUMMARY SUSPENSION   8.272085e+08    8.274905e+08\n",
       "23                   SUPERSEDED   1.252175e+12    1.252877e+12\n",
       "24                    SURRENDER   5.882009e+09    5.884635e+09\n",
       "25                    SUSPENDED   1.060166e+11    1.061763e+11\n",
       "26                   TERMINATED   2.309726e+11    2.325688e+11\n",
       "27          VOLUNTARY SURRENDER   8.218255e+09    8.222390e+09\n",
       "28                    WITHDRAWN   1.996032e+07    2.007110e+07"
      ]
     },
     "execution_count": 40,
     "metadata": {},
     "output_type": "execute_result"
    }
   ],
   "source": [
    "fd2"
   ]
  },
  {
   "cell_type": "code",
   "execution_count": 42,
   "metadata": {},
   "outputs": [],
   "source": [
    "fd3 = df.groupby(['Status','ActionTaken'])[['Status','ActionTaken','LastIssueDate','ExpirationDate']].sum().reset_index()"
   ]
  },
  {
   "cell_type": "code",
   "execution_count": 43,
   "metadata": {},
   "outputs": [
    {
     "data": {
      "text/html": [
       "<div>\n",
       "<style scoped>\n",
       "    .dataframe tbody tr th:only-of-type {\n",
       "        vertical-align: middle;\n",
       "    }\n",
       "\n",
       "    .dataframe tbody tr th {\n",
       "        vertical-align: top;\n",
       "    }\n",
       "\n",
       "    .dataframe thead th {\n",
       "        text-align: right;\n",
       "    }\n",
       "</style>\n",
       "<table border=\"1\" class=\"dataframe\">\n",
       "  <thead>\n",
       "    <tr style=\"text-align: right;\">\n",
       "      <th></th>\n",
       "      <th>Status</th>\n",
       "      <th>ActionTaken</th>\n",
       "      <th>LastIssueDate</th>\n",
       "      <th>ExpirationDate</th>\n",
       "    </tr>\n",
       "  </thead>\n",
       "  <tbody>\n",
       "    <tr>\n",
       "      <th>0</th>\n",
       "      <td>ACTIVE</td>\n",
       "      <td>No</td>\n",
       "      <td>9.366111e+12</td>\n",
       "      <td>9.346020e+12</td>\n",
       "    </tr>\n",
       "    <tr>\n",
       "      <th>1</th>\n",
       "      <td>ACTIVE</td>\n",
       "      <td>Pending</td>\n",
       "      <td>1.635341e+09</td>\n",
       "      <td>1.636412e+09</td>\n",
       "    </tr>\n",
       "    <tr>\n",
       "      <th>2</th>\n",
       "      <td>ACTIVE</td>\n",
       "      <td>Yes</td>\n",
       "      <td>7.982942e+10</td>\n",
       "      <td>7.988233e+10</td>\n",
       "    </tr>\n",
       "    <tr>\n",
       "      <th>3</th>\n",
       "      <td>ACTIVE NOT RENEWABLE</td>\n",
       "      <td>No</td>\n",
       "      <td>8.320206e+10</td>\n",
       "      <td>8.329256e+10</td>\n",
       "    </tr>\n",
       "    <tr>\n",
       "      <th>4</th>\n",
       "      <td>ACTIVE NOT RENEWABLE</td>\n",
       "      <td>Yes</td>\n",
       "      <td>6.057175e+07</td>\n",
       "      <td>6.060183e+07</td>\n",
       "    </tr>\n",
       "    <tr>\n",
       "      <th>5</th>\n",
       "      <td>ACTIVE ON PROBATION</td>\n",
       "      <td>Pending</td>\n",
       "      <td>2.019072e+07</td>\n",
       "      <td>2.020072e+07</td>\n",
       "    </tr>\n",
       "    <tr>\n",
       "      <th>6</th>\n",
       "      <td>ACTIVE ON PROBATION</td>\n",
       "      <td>Yes</td>\n",
       "      <td>3.795734e+09</td>\n",
       "      <td>3.797856e+09</td>\n",
       "    </tr>\n",
       "    <tr>\n",
       "      <th>7</th>\n",
       "      <td>ACTIVE PROVISIONAL</td>\n",
       "      <td>No</td>\n",
       "      <td>1.615266e+08</td>\n",
       "      <td>1.616361e+08</td>\n",
       "    </tr>\n",
       "    <tr>\n",
       "      <th>8</th>\n",
       "      <td>ACTIVE WITH CONDITIONS</td>\n",
       "      <td>No</td>\n",
       "      <td>4.038112e+07</td>\n",
       "      <td>4.040113e+07</td>\n",
       "    </tr>\n",
       "    <tr>\n",
       "      <th>9</th>\n",
       "      <td>ACTIVE WITH CONDITIONS</td>\n",
       "      <td>Yes</td>\n",
       "      <td>9.166416e+09</td>\n",
       "      <td>9.171833e+09</td>\n",
       "    </tr>\n",
       "    <tr>\n",
       "      <th>10</th>\n",
       "      <td>ACTIVE WITH RESTRICTIONS</td>\n",
       "      <td>Yes</td>\n",
       "      <td>7.267820e+08</td>\n",
       "      <td>7.273631e+08</td>\n",
       "    </tr>\n",
       "    <tr>\n",
       "      <th>11</th>\n",
       "      <td>APPROVED</td>\n",
       "      <td>No</td>\n",
       "      <td>1.674944e+09</td>\n",
       "      <td>1.675797e+09</td>\n",
       "    </tr>\n",
       "    <tr>\n",
       "      <th>12</th>\n",
       "      <td>CLOSED</td>\n",
       "      <td>No</td>\n",
       "      <td>8.279964e+10</td>\n",
       "      <td>8.184016e+10</td>\n",
       "    </tr>\n",
       "    <tr>\n",
       "      <th>13</th>\n",
       "      <td>CLOSED</td>\n",
       "      <td>Pending</td>\n",
       "      <td>0.000000e+00</td>\n",
       "      <td>0.000000e+00</td>\n",
       "    </tr>\n",
       "    <tr>\n",
       "      <th>14</th>\n",
       "      <td>CLOSED</td>\n",
       "      <td>Yes</td>\n",
       "      <td>5.816177e+08</td>\n",
       "      <td>5.816975e+08</td>\n",
       "    </tr>\n",
       "    <tr>\n",
       "      <th>15</th>\n",
       "      <td>DENIED LICENSURE</td>\n",
       "      <td>No</td>\n",
       "      <td>5.818289e+08</td>\n",
       "      <td>1.807659e+08</td>\n",
       "    </tr>\n",
       "    <tr>\n",
       "      <th>16</th>\n",
       "      <td>DENIED LICENSURE</td>\n",
       "      <td>Pending</td>\n",
       "      <td>2.002101e+07</td>\n",
       "      <td>2.002101e+07</td>\n",
       "    </tr>\n",
       "    <tr>\n",
       "      <th>17</th>\n",
       "      <td>DENIED LICENSURE</td>\n",
       "      <td>Yes</td>\n",
       "      <td>1.763634e+09</td>\n",
       "      <td>1.703896e+09</td>\n",
       "    </tr>\n",
       "    <tr>\n",
       "      <th>18</th>\n",
       "      <td>EXPIRED</td>\n",
       "      <td>No</td>\n",
       "      <td>2.077489e+13</td>\n",
       "      <td>2.090193e+13</td>\n",
       "    </tr>\n",
       "    <tr>\n",
       "      <th>19</th>\n",
       "      <td>EXPIRED</td>\n",
       "      <td>Pending</td>\n",
       "      <td>8.875321e+08</td>\n",
       "      <td>8.880514e+08</td>\n",
       "    </tr>\n",
       "    <tr>\n",
       "      <th>20</th>\n",
       "      <td>EXPIRED</td>\n",
       "      <td>Yes</td>\n",
       "      <td>1.129719e+11</td>\n",
       "      <td>1.137800e+11</td>\n",
       "    </tr>\n",
       "    <tr>\n",
       "      <th>21</th>\n",
       "      <td>INACTIVE</td>\n",
       "      <td>No</td>\n",
       "      <td>9.011040e+10</td>\n",
       "      <td>9.014141e+10</td>\n",
       "    </tr>\n",
       "    <tr>\n",
       "      <th>22</th>\n",
       "      <td>INACTIVE</td>\n",
       "      <td>Yes</td>\n",
       "      <td>1.231635e+09</td>\n",
       "      <td>1.232296e+09</td>\n",
       "    </tr>\n",
       "    <tr>\n",
       "      <th>23</th>\n",
       "      <td>INACTIVE MILITARY RELATED</td>\n",
       "      <td>No</td>\n",
       "      <td>8.883511e+08</td>\n",
       "      <td>8.888330e+08</td>\n",
       "    </tr>\n",
       "    <tr>\n",
       "      <th>24</th>\n",
       "      <td>INOPERABLE</td>\n",
       "      <td>No</td>\n",
       "      <td>4.996098e+10</td>\n",
       "      <td>4.863350e+10</td>\n",
       "    </tr>\n",
       "    <tr>\n",
       "      <th>25</th>\n",
       "      <td>INOPERABLE</td>\n",
       "      <td>Pending</td>\n",
       "      <td>2.019042e+07</td>\n",
       "      <td>2.020052e+07</td>\n",
       "    </tr>\n",
       "    <tr>\n",
       "      <th>26</th>\n",
       "      <td>INOPERABLE</td>\n",
       "      <td>Yes</td>\n",
       "      <td>2.421679e+08</td>\n",
       "      <td>2.423983e+08</td>\n",
       "    </tr>\n",
       "    <tr>\n",
       "      <th>27</th>\n",
       "      <td>MILITARY</td>\n",
       "      <td>No</td>\n",
       "      <td>8.358791e+09</td>\n",
       "      <td>8.363571e+09</td>\n",
       "    </tr>\n",
       "    <tr>\n",
       "      <th>28</th>\n",
       "      <td>MILITARY</td>\n",
       "      <td>Yes</td>\n",
       "      <td>2.019070e+07</td>\n",
       "      <td>2.020080e+07</td>\n",
       "    </tr>\n",
       "    <tr>\n",
       "      <th>29</th>\n",
       "      <td>PENDING</td>\n",
       "      <td>No</td>\n",
       "      <td>4.096236e+10</td>\n",
       "      <td>4.067847e+10</td>\n",
       "    </tr>\n",
       "    <tr>\n",
       "      <th>30</th>\n",
       "      <td>PENDING</td>\n",
       "      <td>Pending</td>\n",
       "      <td>1.006832e+08</td>\n",
       "      <td>1.007146e+08</td>\n",
       "    </tr>\n",
       "    <tr>\n",
       "      <th>31</th>\n",
       "      <td>PENDING</td>\n",
       "      <td>Yes</td>\n",
       "      <td>8.040492e+08</td>\n",
       "      <td>8.243193e+08</td>\n",
       "    </tr>\n",
       "    <tr>\n",
       "      <th>32</th>\n",
       "      <td>RETIRED</td>\n",
       "      <td>No</td>\n",
       "      <td>3.836229e+09</td>\n",
       "      <td>3.838377e+09</td>\n",
       "    </tr>\n",
       "    <tr>\n",
       "      <th>33</th>\n",
       "      <td>RETIRED</td>\n",
       "      <td>Yes</td>\n",
       "      <td>2.019030e+07</td>\n",
       "      <td>2.020031e+07</td>\n",
       "    </tr>\n",
       "    <tr>\n",
       "      <th>34</th>\n",
       "      <td>RETIRED ACTIVE</td>\n",
       "      <td>No</td>\n",
       "      <td>9.586572e+10</td>\n",
       "      <td>9.591770e+10</td>\n",
       "    </tr>\n",
       "    <tr>\n",
       "      <th>35</th>\n",
       "      <td>RETIRED ACTIVE</td>\n",
       "      <td>Yes</td>\n",
       "      <td>1.857552e+09</td>\n",
       "      <td>1.858544e+09</td>\n",
       "    </tr>\n",
       "    <tr>\n",
       "      <th>36</th>\n",
       "      <td>RETIRED ACTIVE IN-STATE</td>\n",
       "      <td>No</td>\n",
       "      <td>1.306000e+10</td>\n",
       "      <td>1.307373e+10</td>\n",
       "    </tr>\n",
       "    <tr>\n",
       "      <th>37</th>\n",
       "      <td>RETIRED ACTIVE IN-STATE</td>\n",
       "      <td>Yes</td>\n",
       "      <td>3.431704e+08</td>\n",
       "      <td>3.435292e+08</td>\n",
       "    </tr>\n",
       "    <tr>\n",
       "      <th>38</th>\n",
       "      <td>RETIRED ACTIVE OUT-OF-STATE</td>\n",
       "      <td>No</td>\n",
       "      <td>3.169057e+09</td>\n",
       "      <td>3.172361e+09</td>\n",
       "    </tr>\n",
       "    <tr>\n",
       "      <th>39</th>\n",
       "      <td>RETIRED ACTIVE OUT-OF-STATE</td>\n",
       "      <td>Yes</td>\n",
       "      <td>4.037073e+07</td>\n",
       "      <td>4.041075e+07</td>\n",
       "    </tr>\n",
       "    <tr>\n",
       "      <th>40</th>\n",
       "      <td>REVOKED</td>\n",
       "      <td>No</td>\n",
       "      <td>3.804341e+09</td>\n",
       "      <td>3.805300e+09</td>\n",
       "    </tr>\n",
       "    <tr>\n",
       "      <th>41</th>\n",
       "      <td>REVOKED</td>\n",
       "      <td>Yes</td>\n",
       "      <td>4.683822e+10</td>\n",
       "      <td>4.684707e+10</td>\n",
       "    </tr>\n",
       "    <tr>\n",
       "      <th>42</th>\n",
       "      <td>SUMMARY LIMITATION</td>\n",
       "      <td>No</td>\n",
       "      <td>4.014084e+07</td>\n",
       "      <td>4.016055e+07</td>\n",
       "    </tr>\n",
       "    <tr>\n",
       "      <th>43</th>\n",
       "      <td>SUMMARY RESTRICTION</td>\n",
       "      <td>Yes</td>\n",
       "      <td>1.009240e+08</td>\n",
       "      <td>1.010242e+08</td>\n",
       "    </tr>\n",
       "    <tr>\n",
       "      <th>44</th>\n",
       "      <td>SUMMARY SUSPENSION</td>\n",
       "      <td>Yes</td>\n",
       "      <td>8.272085e+08</td>\n",
       "      <td>8.274905e+08</td>\n",
       "    </tr>\n",
       "    <tr>\n",
       "      <th>45</th>\n",
       "      <td>SUPERSEDED</td>\n",
       "      <td>No</td>\n",
       "      <td>1.248007e+12</td>\n",
       "      <td>1.248707e+12</td>\n",
       "    </tr>\n",
       "    <tr>\n",
       "      <th>46</th>\n",
       "      <td>SUPERSEDED</td>\n",
       "      <td>Yes</td>\n",
       "      <td>4.167968e+09</td>\n",
       "      <td>4.170230e+09</td>\n",
       "    </tr>\n",
       "    <tr>\n",
       "      <th>47</th>\n",
       "      <td>SURRENDER</td>\n",
       "      <td>Yes</td>\n",
       "      <td>5.882009e+09</td>\n",
       "      <td>5.884635e+09</td>\n",
       "    </tr>\n",
       "    <tr>\n",
       "      <th>48</th>\n",
       "      <td>SUSPENDED</td>\n",
       "      <td>No</td>\n",
       "      <td>1.116359e+09</td>\n",
       "      <td>1.116962e+09</td>\n",
       "    </tr>\n",
       "    <tr>\n",
       "      <th>49</th>\n",
       "      <td>SUSPENDED</td>\n",
       "      <td>Pending</td>\n",
       "      <td>2.018100e+07</td>\n",
       "      <td>2.019032e+07</td>\n",
       "    </tr>\n",
       "    <tr>\n",
       "      <th>50</th>\n",
       "      <td>SUSPENDED</td>\n",
       "      <td>Yes</td>\n",
       "      <td>1.048800e+11</td>\n",
       "      <td>1.050392e+11</td>\n",
       "    </tr>\n",
       "    <tr>\n",
       "      <th>51</th>\n",
       "      <td>TERMINATED</td>\n",
       "      <td>No</td>\n",
       "      <td>2.254515e+11</td>\n",
       "      <td>2.270257e+11</td>\n",
       "    </tr>\n",
       "    <tr>\n",
       "      <th>52</th>\n",
       "      <td>TERMINATED</td>\n",
       "      <td>Yes</td>\n",
       "      <td>5.521016e+09</td>\n",
       "      <td>5.543183e+09</td>\n",
       "    </tr>\n",
       "    <tr>\n",
       "      <th>53</th>\n",
       "      <td>VOLUNTARY SURRENDER</td>\n",
       "      <td>No</td>\n",
       "      <td>1.400347e+08</td>\n",
       "      <td>1.402662e+08</td>\n",
       "    </tr>\n",
       "    <tr>\n",
       "      <th>54</th>\n",
       "      <td>VOLUNTARY SURRENDER</td>\n",
       "      <td>Yes</td>\n",
       "      <td>8.078220e+09</td>\n",
       "      <td>8.082124e+09</td>\n",
       "    </tr>\n",
       "    <tr>\n",
       "      <th>55</th>\n",
       "      <td>WITHDRAWN</td>\n",
       "      <td>No</td>\n",
       "      <td>1.996032e+07</td>\n",
       "      <td>2.007110e+07</td>\n",
       "    </tr>\n",
       "  </tbody>\n",
       "</table>\n",
       "</div>"
      ],
      "text/plain": [
       "                         Status ActionTaken  LastIssueDate  ExpirationDate\n",
       "0                        ACTIVE          No   9.366111e+12    9.346020e+12\n",
       "1                        ACTIVE     Pending   1.635341e+09    1.636412e+09\n",
       "2                        ACTIVE         Yes   7.982942e+10    7.988233e+10\n",
       "3          ACTIVE NOT RENEWABLE          No   8.320206e+10    8.329256e+10\n",
       "4          ACTIVE NOT RENEWABLE         Yes   6.057175e+07    6.060183e+07\n",
       "5           ACTIVE ON PROBATION     Pending   2.019072e+07    2.020072e+07\n",
       "6           ACTIVE ON PROBATION         Yes   3.795734e+09    3.797856e+09\n",
       "7            ACTIVE PROVISIONAL          No   1.615266e+08    1.616361e+08\n",
       "8        ACTIVE WITH CONDITIONS          No   4.038112e+07    4.040113e+07\n",
       "9        ACTIVE WITH CONDITIONS         Yes   9.166416e+09    9.171833e+09\n",
       "10     ACTIVE WITH RESTRICTIONS         Yes   7.267820e+08    7.273631e+08\n",
       "11                     APPROVED          No   1.674944e+09    1.675797e+09\n",
       "12                       CLOSED          No   8.279964e+10    8.184016e+10\n",
       "13                       CLOSED     Pending   0.000000e+00    0.000000e+00\n",
       "14                       CLOSED         Yes   5.816177e+08    5.816975e+08\n",
       "15             DENIED LICENSURE          No   5.818289e+08    1.807659e+08\n",
       "16             DENIED LICENSURE     Pending   2.002101e+07    2.002101e+07\n",
       "17             DENIED LICENSURE         Yes   1.763634e+09    1.703896e+09\n",
       "18                      EXPIRED          No   2.077489e+13    2.090193e+13\n",
       "19                      EXPIRED     Pending   8.875321e+08    8.880514e+08\n",
       "20                      EXPIRED         Yes   1.129719e+11    1.137800e+11\n",
       "21                     INACTIVE          No   9.011040e+10    9.014141e+10\n",
       "22                     INACTIVE         Yes   1.231635e+09    1.232296e+09\n",
       "23    INACTIVE MILITARY RELATED          No   8.883511e+08    8.888330e+08\n",
       "24                   INOPERABLE          No   4.996098e+10    4.863350e+10\n",
       "25                   INOPERABLE     Pending   2.019042e+07    2.020052e+07\n",
       "26                   INOPERABLE         Yes   2.421679e+08    2.423983e+08\n",
       "27                     MILITARY          No   8.358791e+09    8.363571e+09\n",
       "28                     MILITARY         Yes   2.019070e+07    2.020080e+07\n",
       "29                      PENDING          No   4.096236e+10    4.067847e+10\n",
       "30                      PENDING     Pending   1.006832e+08    1.007146e+08\n",
       "31                      PENDING         Yes   8.040492e+08    8.243193e+08\n",
       "32                      RETIRED          No   3.836229e+09    3.838377e+09\n",
       "33                      RETIRED         Yes   2.019030e+07    2.020031e+07\n",
       "34               RETIRED ACTIVE          No   9.586572e+10    9.591770e+10\n",
       "35               RETIRED ACTIVE         Yes   1.857552e+09    1.858544e+09\n",
       "36      RETIRED ACTIVE IN-STATE          No   1.306000e+10    1.307373e+10\n",
       "37      RETIRED ACTIVE IN-STATE         Yes   3.431704e+08    3.435292e+08\n",
       "38  RETIRED ACTIVE OUT-OF-STATE          No   3.169057e+09    3.172361e+09\n",
       "39  RETIRED ACTIVE OUT-OF-STATE         Yes   4.037073e+07    4.041075e+07\n",
       "40                      REVOKED          No   3.804341e+09    3.805300e+09\n",
       "41                      REVOKED         Yes   4.683822e+10    4.684707e+10\n",
       "42           SUMMARY LIMITATION          No   4.014084e+07    4.016055e+07\n",
       "43          SUMMARY RESTRICTION         Yes   1.009240e+08    1.010242e+08\n",
       "44           SUMMARY SUSPENSION         Yes   8.272085e+08    8.274905e+08\n",
       "45                   SUPERSEDED          No   1.248007e+12    1.248707e+12\n",
       "46                   SUPERSEDED         Yes   4.167968e+09    4.170230e+09\n",
       "47                    SURRENDER         Yes   5.882009e+09    5.884635e+09\n",
       "48                    SUSPENDED          No   1.116359e+09    1.116962e+09\n",
       "49                    SUSPENDED     Pending   2.018100e+07    2.019032e+07\n",
       "50                    SUSPENDED         Yes   1.048800e+11    1.050392e+11\n",
       "51                   TERMINATED          No   2.254515e+11    2.270257e+11\n",
       "52                   TERMINATED         Yes   5.521016e+09    5.543183e+09\n",
       "53          VOLUNTARY SURRENDER          No   1.400347e+08    1.402662e+08\n",
       "54          VOLUNTARY SURRENDER         Yes   8.078220e+09    8.082124e+09\n",
       "55                    WITHDRAWN          No   1.996032e+07    2.007110e+07"
      ]
     },
     "execution_count": 43,
     "metadata": {},
     "output_type": "execute_result"
    }
   ],
   "source": [
    "fd3"
   ]
  },
  {
   "cell_type": "code",
   "execution_count": 56,
   "metadata": {},
   "outputs": [],
   "source": [
    "fd4 = fd3[fd3['ActionTaken'] == 'No']"
   ]
  },
  {
   "cell_type": "code",
   "execution_count": 57,
   "metadata": {},
   "outputs": [
    {
     "data": {
      "text/html": [
       "<div>\n",
       "<style scoped>\n",
       "    .dataframe tbody tr th:only-of-type {\n",
       "        vertical-align: middle;\n",
       "    }\n",
       "\n",
       "    .dataframe tbody tr th {\n",
       "        vertical-align: top;\n",
       "    }\n",
       "\n",
       "    .dataframe thead th {\n",
       "        text-align: right;\n",
       "    }\n",
       "</style>\n",
       "<table border=\"1\" class=\"dataframe\">\n",
       "  <thead>\n",
       "    <tr style=\"text-align: right;\">\n",
       "      <th></th>\n",
       "      <th>Status</th>\n",
       "      <th>ActionTaken</th>\n",
       "      <th>LastIssueDate</th>\n",
       "      <th>ExpirationDate</th>\n",
       "    </tr>\n",
       "  </thead>\n",
       "  <tbody>\n",
       "    <tr>\n",
       "      <th>0</th>\n",
       "      <td>ACTIVE</td>\n",
       "      <td>No</td>\n",
       "      <td>9.366111e+12</td>\n",
       "      <td>9.346020e+12</td>\n",
       "    </tr>\n",
       "    <tr>\n",
       "      <th>3</th>\n",
       "      <td>ACTIVE NOT RENEWABLE</td>\n",
       "      <td>No</td>\n",
       "      <td>8.320206e+10</td>\n",
       "      <td>8.329256e+10</td>\n",
       "    </tr>\n",
       "    <tr>\n",
       "      <th>7</th>\n",
       "      <td>ACTIVE PROVISIONAL</td>\n",
       "      <td>No</td>\n",
       "      <td>1.615266e+08</td>\n",
       "      <td>1.616361e+08</td>\n",
       "    </tr>\n",
       "    <tr>\n",
       "      <th>8</th>\n",
       "      <td>ACTIVE WITH CONDITIONS</td>\n",
       "      <td>No</td>\n",
       "      <td>4.038112e+07</td>\n",
       "      <td>4.040113e+07</td>\n",
       "    </tr>\n",
       "    <tr>\n",
       "      <th>11</th>\n",
       "      <td>APPROVED</td>\n",
       "      <td>No</td>\n",
       "      <td>1.674944e+09</td>\n",
       "      <td>1.675797e+09</td>\n",
       "    </tr>\n",
       "    <tr>\n",
       "      <th>12</th>\n",
       "      <td>CLOSED</td>\n",
       "      <td>No</td>\n",
       "      <td>8.279964e+10</td>\n",
       "      <td>8.184016e+10</td>\n",
       "    </tr>\n",
       "    <tr>\n",
       "      <th>15</th>\n",
       "      <td>DENIED LICENSURE</td>\n",
       "      <td>No</td>\n",
       "      <td>5.818289e+08</td>\n",
       "      <td>1.807659e+08</td>\n",
       "    </tr>\n",
       "    <tr>\n",
       "      <th>18</th>\n",
       "      <td>EXPIRED</td>\n",
       "      <td>No</td>\n",
       "      <td>2.077489e+13</td>\n",
       "      <td>2.090193e+13</td>\n",
       "    </tr>\n",
       "    <tr>\n",
       "      <th>21</th>\n",
       "      <td>INACTIVE</td>\n",
       "      <td>No</td>\n",
       "      <td>9.011040e+10</td>\n",
       "      <td>9.014141e+10</td>\n",
       "    </tr>\n",
       "    <tr>\n",
       "      <th>23</th>\n",
       "      <td>INACTIVE MILITARY RELATED</td>\n",
       "      <td>No</td>\n",
       "      <td>8.883511e+08</td>\n",
       "      <td>8.888330e+08</td>\n",
       "    </tr>\n",
       "    <tr>\n",
       "      <th>24</th>\n",
       "      <td>INOPERABLE</td>\n",
       "      <td>No</td>\n",
       "      <td>4.996098e+10</td>\n",
       "      <td>4.863350e+10</td>\n",
       "    </tr>\n",
       "    <tr>\n",
       "      <th>27</th>\n",
       "      <td>MILITARY</td>\n",
       "      <td>No</td>\n",
       "      <td>8.358791e+09</td>\n",
       "      <td>8.363571e+09</td>\n",
       "    </tr>\n",
       "    <tr>\n",
       "      <th>29</th>\n",
       "      <td>PENDING</td>\n",
       "      <td>No</td>\n",
       "      <td>4.096236e+10</td>\n",
       "      <td>4.067847e+10</td>\n",
       "    </tr>\n",
       "    <tr>\n",
       "      <th>32</th>\n",
       "      <td>RETIRED</td>\n",
       "      <td>No</td>\n",
       "      <td>3.836229e+09</td>\n",
       "      <td>3.838377e+09</td>\n",
       "    </tr>\n",
       "    <tr>\n",
       "      <th>34</th>\n",
       "      <td>RETIRED ACTIVE</td>\n",
       "      <td>No</td>\n",
       "      <td>9.586572e+10</td>\n",
       "      <td>9.591770e+10</td>\n",
       "    </tr>\n",
       "    <tr>\n",
       "      <th>36</th>\n",
       "      <td>RETIRED ACTIVE IN-STATE</td>\n",
       "      <td>No</td>\n",
       "      <td>1.306000e+10</td>\n",
       "      <td>1.307373e+10</td>\n",
       "    </tr>\n",
       "    <tr>\n",
       "      <th>38</th>\n",
       "      <td>RETIRED ACTIVE OUT-OF-STATE</td>\n",
       "      <td>No</td>\n",
       "      <td>3.169057e+09</td>\n",
       "      <td>3.172361e+09</td>\n",
       "    </tr>\n",
       "    <tr>\n",
       "      <th>40</th>\n",
       "      <td>REVOKED</td>\n",
       "      <td>No</td>\n",
       "      <td>3.804341e+09</td>\n",
       "      <td>3.805300e+09</td>\n",
       "    </tr>\n",
       "    <tr>\n",
       "      <th>42</th>\n",
       "      <td>SUMMARY LIMITATION</td>\n",
       "      <td>No</td>\n",
       "      <td>4.014084e+07</td>\n",
       "      <td>4.016055e+07</td>\n",
       "    </tr>\n",
       "    <tr>\n",
       "      <th>45</th>\n",
       "      <td>SUPERSEDED</td>\n",
       "      <td>No</td>\n",
       "      <td>1.248007e+12</td>\n",
       "      <td>1.248707e+12</td>\n",
       "    </tr>\n",
       "    <tr>\n",
       "      <th>48</th>\n",
       "      <td>SUSPENDED</td>\n",
       "      <td>No</td>\n",
       "      <td>1.116359e+09</td>\n",
       "      <td>1.116962e+09</td>\n",
       "    </tr>\n",
       "    <tr>\n",
       "      <th>51</th>\n",
       "      <td>TERMINATED</td>\n",
       "      <td>No</td>\n",
       "      <td>2.254515e+11</td>\n",
       "      <td>2.270257e+11</td>\n",
       "    </tr>\n",
       "    <tr>\n",
       "      <th>53</th>\n",
       "      <td>VOLUNTARY SURRENDER</td>\n",
       "      <td>No</td>\n",
       "      <td>1.400347e+08</td>\n",
       "      <td>1.402662e+08</td>\n",
       "    </tr>\n",
       "    <tr>\n",
       "      <th>55</th>\n",
       "      <td>WITHDRAWN</td>\n",
       "      <td>No</td>\n",
       "      <td>1.996032e+07</td>\n",
       "      <td>2.007110e+07</td>\n",
       "    </tr>\n",
       "  </tbody>\n",
       "</table>\n",
       "</div>"
      ],
      "text/plain": [
       "                         Status ActionTaken  LastIssueDate  ExpirationDate\n",
       "0                        ACTIVE          No   9.366111e+12    9.346020e+12\n",
       "3          ACTIVE NOT RENEWABLE          No   8.320206e+10    8.329256e+10\n",
       "7            ACTIVE PROVISIONAL          No   1.615266e+08    1.616361e+08\n",
       "8        ACTIVE WITH CONDITIONS          No   4.038112e+07    4.040113e+07\n",
       "11                     APPROVED          No   1.674944e+09    1.675797e+09\n",
       "12                       CLOSED          No   8.279964e+10    8.184016e+10\n",
       "15             DENIED LICENSURE          No   5.818289e+08    1.807659e+08\n",
       "18                      EXPIRED          No   2.077489e+13    2.090193e+13\n",
       "21                     INACTIVE          No   9.011040e+10    9.014141e+10\n",
       "23    INACTIVE MILITARY RELATED          No   8.883511e+08    8.888330e+08\n",
       "24                   INOPERABLE          No   4.996098e+10    4.863350e+10\n",
       "27                     MILITARY          No   8.358791e+09    8.363571e+09\n",
       "29                      PENDING          No   4.096236e+10    4.067847e+10\n",
       "32                      RETIRED          No   3.836229e+09    3.838377e+09\n",
       "34               RETIRED ACTIVE          No   9.586572e+10    9.591770e+10\n",
       "36      RETIRED ACTIVE IN-STATE          No   1.306000e+10    1.307373e+10\n",
       "38  RETIRED ACTIVE OUT-OF-STATE          No   3.169057e+09    3.172361e+09\n",
       "40                      REVOKED          No   3.804341e+09    3.805300e+09\n",
       "42           SUMMARY LIMITATION          No   4.014084e+07    4.016055e+07\n",
       "45                   SUPERSEDED          No   1.248007e+12    1.248707e+12\n",
       "48                    SUSPENDED          No   1.116359e+09    1.116962e+09\n",
       "51                   TERMINATED          No   2.254515e+11    2.270257e+11\n",
       "53          VOLUNTARY SURRENDER          No   1.400347e+08    1.402662e+08\n",
       "55                    WITHDRAWN          No   1.996032e+07    2.007110e+07"
      ]
     },
     "execution_count": 57,
     "metadata": {},
     "output_type": "execute_result"
    }
   ],
   "source": [
    "fd4"
   ]
  },
  {
   "cell_type": "markdown",
   "metadata": {},
   "source": [
    "# Matplotlib"
   ]
  },
  {
   "cell_type": "code",
   "execution_count": 65,
   "metadata": {},
   "outputs": [],
   "source": [
    "import matplotlib.pyplot as plt\n",
    "x = np.linspace(0,10,1000)"
   ]
  },
  {
   "cell_type": "code",
   "execution_count": 67,
   "metadata": {},
   "outputs": [
    {
     "data": {
      "text/plain": [
       "[<matplotlib.lines.Line2D at 0x215053dd308>]"
      ]
     },
     "execution_count": 67,
     "metadata": {},
     "output_type": "execute_result"
    },
    {
     "data": {
      "image/png": "[encoded data removed]",
      "text/plain": [
       "<Figure size 432x288 with 1 Axes>"
      ]
     },
     "metadata": {
      "needs_background": "light"
     },
     "output_type": "display_data"
    }
   ],
   "source": [
    "plt.plot(x,np.sin(x))"
   ]
  },
  {
   "cell_type": "code",
   "execution_count": 68,
   "metadata": {},
   "outputs": [
    {
     "data": {
      "text/plain": [
       "[<matplotlib.lines.Line2D at 0x21505533948>]"
      ]
     },
     "execution_count": 68,
     "metadata": {},
     "output_type": "execute_result"
    },
    {
     "data": {
      "image/png": "[encoded data removed]",
      "text/plain": [
       "<Figure size 432x288 with 1 Axes>"
      ]
     },
     "metadata": {
      "needs_background": "light"
     },
     "output_type": "display_data"
    }
   ],
   "source": [
    "y = np.sin(x)\n",
    "plt.plot(x,y)"
   ]
  },
  {
   "cell_type": "code",
   "execution_count": 69,
   "metadata": {},
   "outputs": [
    {
     "data": {
      "text/plain": [
       "<matplotlib.collections.PathCollection at 0x215055ff248>"
      ]
     },
     "execution_count": 69,
     "metadata": {},
     "output_type": "execute_result"
    },
    {
     "data": {
      "image/png": "[encoded data removed]",
      "text/plain": [
       "<Figure size 432x288 with 1 Axes>"
      ]
     },
     "metadata": {
      "needs_background": "light"
     },
     "output_type": "display_data"
    }
   ],
   "source": [
    "#Scatterplot\n",
    "plt.scatter(x,y)"
   ]
  },
  {
   "cell_type": "code",
   "execution_count": 72,
   "metadata": {},
   "outputs": [
    {
     "data": {
      "text/plain": [
       "<matplotlib.collections.PathCollection at 0x21521033448>"
      ]
     },
     "execution_count": 72,
     "metadata": {},
     "output_type": "execute_result"
    },
    {
     "data": {
      "image/png": "[encoded data removed]",
      "text/plain": [
       "<Figure size 432x288 with 1 Axes>"
      ]
     },
     "metadata": {
      "needs_background": "light"
     },
     "output_type": "display_data"
    }
   ],
   "source": [
    "# defining the x and y from 0 to 30\n",
    "plt.scatter(x[:30],y[:30])"
   ]
  },
  {
   "cell_type": "code",
   "execution_count": 73,
   "metadata": {},
   "outputs": [
    {
     "data": {
      "text/plain": [
       "<matplotlib.collections.PathCollection at 0x215210cd4c8>"
      ]
     },
     "execution_count": 73,
     "metadata": {},
     "output_type": "execute_result"
    },
    {
     "data": {
      "image/png": "[encoded data removed]",
      "text/plain": [
       "<Figure size 432x288 with 1 Axes>"
      ]
     },
     "metadata": {
      "needs_background": "light"
     },
     "output_type": "display_data"
    }
   ],
   "source": [
    "# lets start from begining to end with 10 steps\n",
    "plt.scatter(x[::10],y[::10])"
   ]
  },
  {
   "cell_type": "code",
   "execution_count": 74,
   "metadata": {},
   "outputs": [
    {
     "data": {
      "text/plain": [
       "[<matplotlib.lines.Line2D at 0x2152114ce88>]"
      ]
     },
     "execution_count": 74,
     "metadata": {},
     "output_type": "execute_result"
    },
    {
     "data": {
      "image/png": "[encoded data removed]",
      "text/plain": [
       "<Figure size 432x288 with 1 Axes>"
      ]
     },
     "metadata": {
      "needs_background": "light"
     },
     "output_type": "display_data"
    }
   ],
   "source": [
    "plt.plot(x,y,color='b')\n",
    "plt.plot(x,np.cos(x),color='g')"
   ]
  },
  {
   "cell_type": "code",
   "execution_count": 75,
   "metadata": {},
   "outputs": [
    {
     "data": {
      "text/plain": [
       "[<matplotlib.lines.Line2D at 0x21521229f08>]"
      ]
     },
     "execution_count": 75,
     "metadata": {},
     "output_type": "execute_result"
    },
    {
     "data": {
      "image/png": "[encoded data removed]",
      "text/plain": [
       "<Figure size 432x288 with 1 Axes>"
      ]
     },
     "metadata": {
      "needs_background": "light"
     },
     "output_type": "display_data"
    }
   ],
   "source": [
    "plt.plot(x,x+1,'-g') #solid green\n",
    "plt.plot(x,x+2,':r') # dotted red\n",
    "plt.plot(x,x+3,'--c') # dashed cyan\n",
    "plt.plot(x,x+4,'-.k') # dashdot black"
   ]
  },
  {
   "cell_type": "code",
   "execution_count": 79,
   "metadata": {},
   "outputs": [
    {
     "data": {
      "text/plain": [
       "24"
      ]
     },
     "execution_count": 79,
     "metadata": {},
     "output_type": "execute_result"
    }
   ],
   "source": [
    "stat = fd4['Status'].unique()\n",
    "len(stat)"
   ]
  },
  {
   "cell_type": "code",
   "execution_count": null,
   "metadata": {},
   "outputs": [],
   "source": []
  }
 ],
 "metadata": {
  "kernelspec": {
   "display_name": "Python 3",
   "language": "python",
   "name": "python3"
  },
  "language_info": {
   "codemirror_mode": {
    "name": "ipython",
    "version": 3
   },
   "file_extension": ".py",
   "mimetype": "text/x-python",
   "name": "python",
   "nbconvert_exporter": "python",
   "pygments_lexer": "ipython3",
   "version": "3.7.9"
  }
 },
 "nbformat": 4,
 "nbformat_minor": 4
}
