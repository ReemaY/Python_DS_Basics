{
 "cells": [
  {
   "cell_type": "code",
   "execution_count": 19,
   "metadata": {},
   "outputs": [],
   "source": [
    "# To calculate the average,highest and lowest marks of student in a class\n",
    "def getStudentInfo():\n",
    "    D = {}\n",
    "    while True:\n",
    "        StudentName = input(\"Enter student name: \")\n",
    "        StudentId = input(\"Enter student Id: \")\n",
    "        if StudentId in D:\n",
    "            print(\"Student Id\", StudentId, \"already present!! \")\n",
    "            StudentId = input(\"Enter different student Id: \")\n",
    "        StudentSubject = input(\"Enter the subjects of student seperated by comma: \")\n",
    "        StudentMarks = input(\"Enter the marks of student seperated by comma : \")\n",
    "        InsertStudent = input(\"Do you want to insert details of more students? yes or no?: \")\n",
    "        #D[StudentId] = StudentName\n",
    "        D[StudentId] = StudentSubject.split(\",\")\n",
    "        D[StudentId] = StudentMarks.split(\",\")\n",
    "        if InsertStudent == 'yes':\n",
    "            continue\n",
    "        else:\n",
    "            return D\n",
    "            \n",
    "    "
   ]
  },
  {
   "cell_type": "code",
   "execution_count": 20,
   "metadata": {},
   "outputs": [
    {
     "name": "stdout",
     "output_type": "stream",
     "text": [
      "Enter student name: 2\n",
      "Enter student Id: 23\n",
      "Enter the subjects of student seperated by comma: jr,23,fk\n",
      "Enter the marks of student seperated by comma : 23,23\n",
      "Do you want to insert details of more students? yes or no?: n\n"
     ]
    }
   ],
   "source": [
    "StudentData = getStudentInfo()"
   ]
  },
  {
   "cell_type": "code",
   "execution_count": 21,
   "metadata": {},
   "outputs": [
    {
     "data": {
      "text/plain": [
       "{'23': ['jr', '23', 'fk']}"
      ]
     },
     "execution_count": 21,
     "metadata": {},
     "output_type": "execute_result"
    }
   ],
   "source": [
    "StudentData"
   ]
  },
  {
   "cell_type": "code",
   "execution_count": null,
   "metadata": {},
   "outputs": [],
   "source": [
    "def ComputeHighestMarks():"
   ]
  },
  {
   "cell_type": "code",
   "execution_count": null,
   "metadata": {},
   "outputs": [],
   "source": [
    "def ComputeLowestMarks():"
   ]
  },
  {
   "cell_type": "code",
   "execution_count": 15,
   "metadata": {},
   "outputs": [],
   "source": [
    "def ComputeAverageMarks(D):\n",
    "    avgMarks ={}\n",
    "    for x in D:\n",
    "        L = D[x]\n",
    "        s = 0\n",
    "        for marks in L:\n",
    "            s += marks\n",
    "        AvgMarks = s/len(L)\n",
    "    return AvgMarks\n",
    "    "
   ]
  },
  {
   "cell_type": "code",
   "execution_count": null,
   "metadata": {},
   "outputs": [],
   "source": []
  }
 ],
 "metadata": {
  "kernelspec": {
   "display_name": "Python 3",
   "language": "python",
   "name": "python3"
  },
  "language_info": {
   "codemirror_mode": {
    "name": "ipython",
    "version": 3
   },
   "file_extension": ".py",
   "mimetype": "text/x-python",
   "name": "python",
   "nbconvert_exporter": "python",
   "pygments_lexer": "ipython3",
   "version": "3.7.9"
  }
 },
 "nbformat": 4,
 "nbformat_minor": 4
}
